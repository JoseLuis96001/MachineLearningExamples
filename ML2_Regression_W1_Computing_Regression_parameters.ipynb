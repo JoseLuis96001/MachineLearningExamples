{
  "nbformat": 4,
  "nbformat_minor": 0,
  "metadata": {
    "colab": {
      "name": "ML2-Regression-W1-Computing Regression parameters.ipynb",
      "provenance": [],
      "authorship_tag": "ABX9TyPriJ2PUISIfT0ikwYkHT2Z",
      "include_colab_link": true
    },
    "kernelspec": {
      "name": "python3",
      "display_name": "Python 3"
    },
    "language_info": {
      "name": "python"
    }
  },
  "cells": [
    {
      "cell_type": "markdown",
      "metadata": {
        "id": "view-in-github",
        "colab_type": "text"
      },
      "source": [
        "<a href=\"https://colab.research.google.com/github/JoseLuis96001/MachineLearningExamples/blob/main/ML2_Regression_W1_Computing_Regression_parameters.ipynb\" target=\"_parent\"><img src=\"https://colab.research.google.com/assets/colab-badge.svg\" alt=\"Open In Colab\"/></a>"
      ]
    },
    {
      "cell_type": "code",
      "metadata": {
        "id": "wa0DzJKIzHZm"
      },
      "source": [
        "import numpy as np\n",
        "import matplotlib.pyplot as plt"
      ],
      "execution_count": 1,
      "outputs": []
    },
    {
      "cell_type": "markdown",
      "metadata": {
        "id": "NP8XeR4Uy11P"
      },
      "source": [
        "**We have de following data**"
      ]
    },
    {
      "cell_type": "code",
      "metadata": {
        "id": "ZerWUryiy9OP"
      },
      "source": [
        "x=np.array([0,1,2,3,4])\n",
        "y=np.array([1,3,7,13,21])"
      ],
      "execution_count": 2,
      "outputs": []
    },
    {
      "cell_type": "code",
      "metadata": {
        "colab": {
          "base_uri": "https://localhost:8080/"
        },
        "id": "Qt8E2_CQzWHu",
        "outputId": "796482a7-bb77-4044-9543-225c545b4c39"
      },
      "source": [
        "x,y"
      ],
      "execution_count": 3,
      "outputs": [
        {
          "output_type": "execute_result",
          "data": {
            "text/plain": [
              "(array([0, 1, 2, 3, 4]), array([ 1,  3,  7, 13, 21]))"
            ]
          },
          "metadata": {
            "tags": []
          },
          "execution_count": 3
        }
      ]
    },
    {
      "cell_type": "code",
      "metadata": {
        "colab": {
          "base_uri": "https://localhost:8080/",
          "height": 279
        },
        "id": "j3PDCyHpzgrT",
        "outputId": "d5ab0501-b19d-4857-e053-fd793cc87257"
      },
      "source": [
        "plt.plot(x,y,'o')\n",
        "plt.xlabel('X')\n",
        "plt.ylabel('Y')\n",
        "plt.show()"
      ],
      "execution_count": 4,
      "outputs": [
        {
          "output_type": "display_data",
          "data": {
            "image/png": "[encoded data removed]",
            "text/plain": [
              "<Figure size 432x288 with 1 Axes>"
            ]
          },
          "metadata": {
            "tags": [],
            "needs_background": "light"
          }
        }
      ]
    },
    {
      "cell_type": "markdown",
      "metadata": {
        "id": "URCwFKRD0jrN"
      },
      "source": [
        "If we want the **line** that **'best fits'** this dataset. We can calculate the **Residual Sum of squares** and try to **minimize** this function."
      ]
    },
    {
      "cell_type": "markdown",
      "metadata": {
        "id": "I8zYfej21Sk8"
      },
      "source": [
        "#**One Aproach** is to Set the gradient equal to zero"
      ]
    },
    {
      "cell_type": "markdown",
      "metadata": {
        "id": "NAGbDFlj2KJ0"
      },
      "source": [
        "$$ \n",
        "\\operatorname{RSS}\\left(w_{0}, w_{1}\\right)=\\sum_{i=1}^{N}\\left(y_{i}-\\left[w_{0}+w_{1} x_{i}\\right]\\right)^{2} \n",
        "$$"
      ]
    },
    {
      "cell_type": "markdown",
      "metadata": {
        "id": "UbK1tdkJ1l12"
      },
      "source": [
        "$$ \n",
        "\\nabla \\operatorname{RSS}\\left(w_{0}, w_{1}\\right)=\\left[\\begin{array}{c} \n",
        "-2 \\sum_{i=1}^{N}\\left[y_{i}-\\left(w_{0}+w_{1} x_{i}\\right)\\right] \\\\ \n",
        "-2 \\sum_{i=1}^{N}\\left[y_{i}-\\left(w_{0}+w_{1} x_{i}\\right)\\right] x_{i} \n",
        "\\end{array}\\right] \n",
        "$$"
      ]
    },
    {
      "cell_type": "markdown",
      "metadata": {
        "id": "JjjYd77S2fYu"
      },
      "source": [
        "Setting $\\nabla \\operatorname{RSS}\\left(w_{0}, w_{1}\\right) = 0$ , I have the following:"
      ]
    },
    {
      "cell_type": "markdown",
      "metadata": {
        "id": "lYM3FthH2vyN"
      },
      "source": [
        "$$ \n",
        "\\begin{array}{l} \n",
        "\\hat{\\omega}_{0}=\\frac{\\sum_{i=1}^{N} y_{i}}{N}-\\hat{w}_{1} \\frac{\\sum_{i=1}^{N} x_{i}}{N}\\\\ \n",
        "\\sum_{y_{i} x_{i}}-\\hat{\\omega}_{0} \\sum x_{i}-\\hat{w_{1}} \\sum x_{i}^{2}=0\\\\ \n",
        "\\hat{\\omega}_{1}=\\frac{\\sum_{y_{i} x_{i}}-\\frac{\\sum y_{i} \\sum x_{i}}{N}}{\\sum x_{i}^{2}-\\frac{\\sum_{x i} \\sum_{x i}}{N}} \n",
        "\\end{array} \n",
        "$$"
      ]
    },
    {
      "cell_type": "markdown",
      "metadata": {
        "id": "-83NfgZt42cL"
      },
      "source": [
        "We have a closed form solution that involves the following terms:\n",
        "\n",
        "*   The number of data points (N)\n",
        "*   The sum (or mean) of the Ys\n",
        "*   The sum (or mean) of the Xs\n",
        "*   The sum (or mean) of the product of the Xs and the Ys\n",
        "*   The sum (or mean) of the Xs squared\n",
        "\n",
        "\n",
        "\n",
        "\n",
        "\n"
      ]
    },
    {
      "cell_type": "markdown",
      "metadata": {
        "id": "Y_cgClL66asQ"
      },
      "source": [
        "# We first solve for the slope and then we use the value of the slope to solve for the intercept. \n",
        "The formula for the slope is a fraction with:"
      ]
    },
    {
      "cell_type": "markdown",
      "metadata": {
        "id": "MtQKUn-R73Gx"
      },
      "source": [
        "**Method 1:** (using sums)"
      ]
    },
    {
      "cell_type": "code",
      "metadata": {
        "id": "h0PTe6nP83kY"
      },
      "source": [
        "N=len(x)"
      ],
      "execution_count": 7,
      "outputs": []
    },
    {
      "cell_type": "code",
      "metadata": {
        "colab": {
          "base_uri": "https://localhost:8080/"
        },
        "id": "P848HC614vGf",
        "outputId": "bc244d45-c552-4e76-bbab-f5709829eb8c"
      },
      "source": [
        "num_slope=(sum(x*y)-(1/N*sum(y)*sum(x)))\n",
        "num_slope"
      ],
      "execution_count": 10,
      "outputs": [
        {
          "output_type": "execute_result",
          "data": {
            "text/plain": [
              "50.0"
            ]
          },
          "metadata": {
            "tags": []
          },
          "execution_count": 10
        }
      ]
    },
    {
      "cell_type": "code",
      "metadata": {
        "colab": {
          "base_uri": "https://localhost:8080/"
        },
        "id": "d9WoOe247Fl2",
        "outputId": "f2c6868e-11ea-44fc-aa55-f712aa982e3d"
      },
      "source": [
        "den_slope=(sum(x*x)-(1/N*sum(x)*sum(x)))\n",
        "den_slope"
      ],
      "execution_count": 11,
      "outputs": [
        {
          "output_type": "execute_result",
          "data": {
            "text/plain": [
              "10.0"
            ]
          },
          "metadata": {
            "tags": []
          },
          "execution_count": 11
        }
      ]
    },
    {
      "cell_type": "markdown",
      "metadata": {
        "id": "YQzZJ4J09prO"
      },
      "source": [
        "Hence:"
      ]
    },
    {
      "cell_type": "code",
      "metadata": {
        "colab": {
          "base_uri": "https://localhost:8080/"
        },
        "id": "SJTGOtKp9nA5",
        "outputId": "0502cae5-f987-40d0-9ee4-3bfe92bf0d0e"
      },
      "source": [
        "slope=num_slope/den_slope\n",
        "slope"
      ],
      "execution_count": 12,
      "outputs": [
        {
          "output_type": "execute_result",
          "data": {
            "text/plain": [
              "5.0"
            ]
          },
          "metadata": {
            "tags": []
          },
          "execution_count": 12
        }
      ]
    },
    {
      "cell_type": "markdown",
      "metadata": {
        "id": "PZgvPM8z-OSp"
      },
      "source": [
        "**Method 2:** (using means) Dividing the numerator and denominator by N"
      ]
    },
    {
      "cell_type": "code",
      "metadata": {
        "colab": {
          "base_uri": "https://localhost:8080/"
        },
        "id": "lHwPiSsK2uOC",
        "outputId": "51a07666-1128-42c6-c057-63ca7cdbea5b"
      },
      "source": [
        "num_slope=np.mean(x*y)-(np.mean(x)*np.mean(y))\n",
        "print(num_slope)"
      ],
      "execution_count": 13,
      "outputs": [
        {
          "output_type": "stream",
          "text": [
            "10.0\n"
          ],
          "name": "stdout"
        }
      ]
    },
    {
      "cell_type": "code",
      "metadata": {
        "colab": {
          "base_uri": "https://localhost:8080/"
        },
        "id": "BhZ181xQBJsZ",
        "outputId": "b930921f-d18a-496a-c048-79d054ed927c"
      },
      "source": [
        "den_slope=np.mean(x*x)-(np.mean(x)*np.mean(x))\n",
        "den_slope"
      ],
      "execution_count": 14,
      "outputs": [
        {
          "output_type": "execute_result",
          "data": {
            "text/plain": [
              "2.0"
            ]
          },
          "metadata": {
            "tags": []
          },
          "execution_count": 14
        }
      ]
    },
    {
      "cell_type": "code",
      "metadata": {
        "colab": {
          "base_uri": "https://localhost:8080/"
        },
        "id": "KU5fdudtBaVC",
        "outputId": "c010f0fb-48fe-436b-eec9-16c7477befd9"
      },
      "source": [
        "slope=num_slope/den_slope\n",
        "slope"
      ],
      "execution_count": 15,
      "outputs": [
        {
          "output_type": "execute_result",
          "data": {
            "text/plain": [
              "5.0"
            ]
          },
          "metadata": {
            "tags": []
          },
          "execution_count": 15
        }
      ]
    },
    {
      "cell_type": "markdown",
      "metadata": {
        "id": "uliqOGzGCVa5"
      },
      "source": [
        "Using the slope in $\\hat{\\omega}_{0}$"
      ]
    },
    {
      "cell_type": "code",
      "metadata": {
        "colab": {
          "base_uri": "https://localhost:8080/"
        },
        "id": "tsXyHrpBCd_n",
        "outputId": "f2a67da4-3c9c-4cd4-90c7-be0b78eb143b"
      },
      "source": [
        "intercept=np.mean(y)-slope*np.mean(x)\n",
        "intercept"
      ],
      "execution_count": 16,
      "outputs": [
        {
          "output_type": "execute_result",
          "data": {
            "text/plain": [
              "-1.0"
            ]
          },
          "metadata": {
            "tags": []
          },
          "execution_count": 16
        }
      ]
    },
    {
      "cell_type": "markdown",
      "metadata": {
        "id": "dBiRBitpC5Lq"
      },
      "source": [
        "**slope = 5, intercept = -1** "
      ]
    },
    {
      "cell_type": "code",
      "metadata": {
        "colab": {
          "base_uri": "https://localhost:8080/",
          "height": 279
        },
        "id": "J27CEgQ8E840",
        "outputId": "f896d43c-a7d1-4f57-bd9b-7391262d4074"
      },
      "source": [
        "# Some dummy data\n",
        "x = [0, 1, 2, 3, 4]\n",
        "\n",
        "\n",
        "# Find the slope and intercept of the best fit line\n",
        "#slope, intercept = np.polyfit(x, y, 1)\n",
        "\n",
        "# Create a list of values in the best fit line\n",
        "abline_values = [slope * i + intercept for i in x]\n",
        "\n",
        "# Plot the best fit line over the actual values\n",
        "plt.plot(x,y,'o')\n",
        "plt.xlabel('X')\n",
        "plt.ylabel('Y')\n",
        "plt.plot(np.mean(x),np.mean(y) , 'ro')\n",
        "plt.plot(x, abline_values, 'b')\n",
        "plt.show()"
      ],
      "execution_count": 17,
      "outputs": [
        {
          "output_type": "display_data",
          "data": {
            "image/png": "[encoded data removed]",
            "text/plain": [
              "<Figure size 432x288 with 1 Axes>"
            ]
          },
          "metadata": {
            "tags": [],
            "needs_background": "light"
          }
        }
      ]
    },
    {
      "cell_type": "markdown",
      "metadata": {
        "id": "qLGztQzdFofr"
      },
      "source": [
        "The solid red point included in this plot is the point (mean of X, mean of Y).  You’ll notice that this point falls exactly on the regression line! \n",
        "\n",
        "(Food for thought: is this always true? Hint: try plugging in (mean of X) as input into prediction = intercept + slope * input) where you use the formula for intercept). \n",
        "\n"
      ]
    },
    {
      "cell_type": "code",
      "metadata": {
        "colab": {
          "base_uri": "https://localhost:8080/"
        },
        "id": "xi4OfO4pGzaD",
        "outputId": "4ca7656b-6ca0-46c9-d574-f9d98b606cd3"
      },
      "source": [
        "np.mean(y)"
      ],
      "execution_count": 18,
      "outputs": [
        {
          "output_type": "execute_result",
          "data": {
            "text/plain": [
              "9.0"
            ]
          },
          "metadata": {
            "tags": []
          },
          "execution_count": 18
        }
      ]
    },
    {
      "cell_type": "code",
      "metadata": {
        "colab": {
          "base_uri": "https://localhost:8080/"
        },
        "id": "k1NTgPH5G6d7",
        "outputId": "d6f6c16f-d230-4054-89b6-58545176c576"
      },
      "source": [
        "predicted_v1=intercept+slope*np.mean(x)\n",
        "predicted_v1"
      ],
      "execution_count": 19,
      "outputs": [
        {
          "output_type": "execute_result",
          "data": {
            "text/plain": [
              "9.0"
            ]
          },
          "metadata": {
            "tags": []
          },
          "execution_count": 19
        }
      ]
    },
    {
      "cell_type": "markdown",
      "metadata": {
        "id": "5fAz9WUT6cHC"
      },
      "source": [
        "#**Other Aproach** is using the gradient descent (iteratively)"
      ]
    },
    {
      "cell_type": "markdown",
      "metadata": {
        "id": "pxTU_icN6vGL"
      },
      "source": [
        "We will use the same x and y "
      ]
    },
    {
      "cell_type": "code",
      "metadata": {
        "colab": {
          "base_uri": "https://localhost:8080/",
          "height": 279
        },
        "id": "KHbY0XH367se",
        "outputId": "a8a7f755-bf52-436d-a05f-7fc2ff773f73"
      },
      "source": [
        "plt.plot(x,y,'o')\n",
        "plt.xlabel('X')\n",
        "plt.ylabel('Y')\n",
        "plt.show()"
      ],
      "execution_count": 5,
      "outputs": [
        {
          "output_type": "display_data",
          "data": {
            "image/png": "[encoded data removed]",
            "text/plain": [
              "<Figure size 432x288 with 1 Axes>"
            ]
          },
          "metadata": {
            "tags": [],
            "needs_background": "light"
          }
        }
      ]
    },
    {
      "cell_type": "markdown",
      "metadata": {
        "id": "5ikozc2PPYR0"
      },
      "source": [
        ""
      ]
    },
    {
      "cell_type": "markdown",
      "metadata": {
        "id": "0ukgCHcW7jOS"
      },
      "source": [
        "We need to remember that:\n",
        "\n",
        "\n",
        "*   The derivative of the cost for the intercept is the sum of the errors\n",
        "*   The derivative of the cost for the slope is the sum of the product of the errors and the input\n",
        "\n",
        "\n",
        "\n",
        "$$ \n",
        "\\nabla \\operatorname{RSS}\\left(w_{0}, w_{1}\\right)=\\left[\\begin{array}{c} \n",
        "-2 \\sum_{i=1}^{N}\\left[y_{i}-\\left(w_{0}+w_{1} x_{i}\\right)\\right] \\\\ \n",
        "-2 \\sum_{i=1}^{N}\\left[y_{i}-\\left(w_{0}+w_{1} x_{i}\\right)\\right] x_{i} \n",
        "\\end{array}\\right] \n",
        "$$\n",
        "\n",
        "We will need a starting value for the slope and intercept, a step_size and a tolerance\n",
        "\n",
        "initial_intercept = 0\n",
        "\n",
        "initial_slope = 0\n",
        "\n",
        "step_size = -0.05\n",
        "\n",
        "tolerance = 0.01"
      ]
    },
    {
      "cell_type": "markdown",
      "metadata": {
        "id": "RzdJeF7k8Uq6"
      },
      "source": [
        "The algorithm\n",
        "In each step of the gradient descent we will do the following:\n",
        "\n",
        "1. Compute the predicted values given the current slope and intercept\n",
        "\n",
        "2. Compute the prediction errors (Y-prediction)\n",
        "\n",
        "3. Update the intercept:\n",
        "\n",
        "  compute the derivative: sum(errors)\n",
        "\n",
        "  compute the adjustment as step_size times the derivative\n",
        "\n",
        "  decrease the intercept by the adjustment\n",
        "4. Update the slope:\n",
        "\n",
        "  compute the derivative: sum(errors*input)\n",
        "\n",
        "  compute the adjustment as step_size times the derivative\n",
        "\n",
        "  decrease the slope by the adjustment\n",
        "5. Compute the magnitude of the gradient\n",
        "\n",
        "6. Check for convergence"
      ]
    },
    {
      "cell_type": "code",
      "metadata": {
        "id": "Ra4y0U528XhH"
      },
      "source": [
        "Intercept = 0 \n",
        "Slope = 0\n",
        "step = -0.05\n",
        "tolerance = 0.01"
      ],
      "execution_count": 50,
      "outputs": []
    },
    {
      "cell_type": "markdown",
      "metadata": {
        "id": "6MLf2xMr8sqU"
      },
      "source": [
        "1. We calculate the predictions"
      ]
    },
    {
      "cell_type": "code",
      "metadata": {
        "id": "f3CFL19Q9Prp"
      },
      "source": [
        "predictions=np.zeros(N)"
      ],
      "execution_count": 51,
      "outputs": []
    },
    {
      "cell_type": "code",
      "metadata": {
        "id": "4s2O4ApX9nSQ"
      },
      "source": [
        "def pred(Intercept,Slope):\n",
        "  global predictions\n",
        "  global x\n",
        "  for i in range(N):\n",
        "    predictions[i]=(Intercept+Slope*x[i])"
      ],
      "execution_count": 52,
      "outputs": []
    },
    {
      "cell_type": "code",
      "metadata": {
        "id": "xFFnSite-k9F"
      },
      "source": [
        "pred(Intercept,Slope)"
      ],
      "execution_count": 53,
      "outputs": []
    },
    {
      "cell_type": "code",
      "metadata": {
        "colab": {
          "base_uri": "https://localhost:8080/"
        },
        "id": "OVHnq0Ue-18C",
        "outputId": "83c76950-0958-464e-b7d3-c19ad28cf97d"
      },
      "source": [
        "count=0\n",
        "magnitude=100\n",
        "while magnitude > tolerance:\n",
        "  pred(Intercept,Slope)\n",
        "  #updating intercept\n",
        "  errors=y-predictions\n",
        "  sum1=sum(errors)\n",
        "  adjustmen=step*sum1\n",
        "  Intercept=Intercept-1*adjustmen\n",
        "  #updating slope\n",
        "  sum2=sum(x*errors)\n",
        "  adjustmen2=step*sum2\n",
        "  Slope=Slope-1*adjustmen2\n",
        "  magnitude=np.sqrt(sum1*sum1+sum2*sum2)\n",
        "  count=count+1\n",
        "print(\"Intercept: \",Intercept)\n",
        "print(\"Slope: \",Slope)\n",
        "print(\"No Interation: \",count)\n"
      ],
      "execution_count": 54,
      "outputs": [
        {
          "output_type": "stream",
          "text": [
            "Intercept:  -0.9942069818917416\n",
            "Slope:  4.997967918970868\n",
            "No Interation:  78\n"
          ],
          "name": "stdout"
        }
      ]
    }
  ]
}