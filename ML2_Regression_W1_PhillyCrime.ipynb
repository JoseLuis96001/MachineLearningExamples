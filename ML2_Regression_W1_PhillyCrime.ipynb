{
  "nbformat": 4,
  "nbformat_minor": 0,
  "metadata": {
    "kernelspec": {
      "display_name": "Python 3",
      "language": "python",
      "name": "python3"
    },
    "language_info": {
      "codemirror_mode": {
        "name": "ipython",
        "version": 3
      },
      "file_extension": ".py",
      "mimetype": "text/x-python",
      "name": "python",
      "nbconvert_exporter": "python",
      "pygments_lexer": "ipython3",
      "version": "3.8.8"
    },
    "colab": {
      "name": "ML2-Regression-W1-PhillyCrime.ipynb",
      "provenance": [],
      "include_colab_link": true
    }
  },
  "cells": [
    {
      "cell_type": "markdown",
      "metadata": {
        "id": "view-in-github",
        "colab_type": "text"
      },
      "source": [
        "<a href=\"https://colab.research.google.com/github/JoseLuis96001/MachineLearningExamples/blob/main/ML2_Regression_W1_PhillyCrime.ipynb\" target=\"_parent\"><img src=\"https://colab.research.google.com/assets/colab-badge.svg\" alt=\"Open In Colab\"/></a>"
      ]
    },
    {
      "cell_type": "markdown",
      "metadata": {
        "id": "Ei4jzYqDWUZr"
      },
      "source": [
        "# Fire up Pandas"
      ]
    },
    {
      "cell_type": "code",
      "metadata": {
        "id": "64WNVKsEWUZv"
      },
      "source": [
        "import pandas as pd\n",
        "import numpy as np\n"
      ],
      "execution_count": 20,
      "outputs": []
    },
    {
      "cell_type": "markdown",
      "metadata": {
        "id": "yVNWdv3BWUZx"
      },
      "source": [
        "# Load some house value vs. crime rate data\n",
        "\n",
        "Dataset is from Philadelphia, PA and includes average house sales price in a number of neighborhoods.  The attributes of each neighborhood we have include the crime rate ('CrimeRate'), miles from Center City ('MilesPhila'), town name ('Name'), and county name ('County')."
      ]
    },
    {
      "cell_type": "code",
      "metadata": {
        "colab": {
          "base_uri": "https://localhost:8080/"
        },
        "id": "OrmZnT63GdW8",
        "outputId": "2644b575-05cb-4dbc-bc6d-6ef167883885"
      },
      "source": [
        "from google.colab import drive\n",
        "drive.mount('/content/drive')"
      ],
      "execution_count": 1,
      "outputs": [
        {
          "output_type": "stream",
          "name": "stdout",
          "text": [
            "Mounted at /content/drive\n"
          ]
        }
      ]
    },
    {
      "cell_type": "code",
      "metadata": {
        "id": "9PyC4YKWWUZx"
      },
      "source": [
        "sales = pd.read_csv(\"/content/drive/MyDrive/Coursera/Machine Learning/ML2:Regression/Philadelphia_Crime_Rate_noNA.csv\") "
      ],
      "execution_count": 21,
      "outputs": []
    },
    {
      "cell_type": "code",
      "metadata": {
        "colab": {
          "base_uri": "https://localhost:8080/",
          "height": 423
        },
        "id": "YsxEOUh_WUZy",
        "outputId": "8a66332b-39aa-4aa5-fc8f-530de59e0f39"
      },
      "source": [
        "sales"
      ],
      "execution_count": 22,
      "outputs": [
        {
          "output_type": "execute_result",
          "data": {
            "text/html": [
              "<div>\n",
              "<style scoped>\n",
              "    .dataframe tbody tr th:only-of-type {\n",
              "        vertical-align: middle;\n",
              "    }\n",
              "\n",
              "    .dataframe tbody tr th {\n",
              "        vertical-align: top;\n",
              "    }\n",
              "\n",
              "    .dataframe thead th {\n",
              "        text-align: right;\n",
              "    }\n",
              "</style>\n",
              "<table border=\"1\" class=\"dataframe\">\n",
              "  <thead>\n",
              "    <tr style=\"text-align: right;\">\n",
              "      <th></th>\n",
              "      <th>HousePrice</th>\n",
              "      <th>HsPrc ($10,000)</th>\n",
              "      <th>CrimeRate</th>\n",
              "      <th>MilesPhila</th>\n",
              "      <th>PopChg</th>\n",
              "      <th>Name</th>\n",
              "      <th>County</th>\n",
              "    </tr>\n",
              "  </thead>\n",
              "  <tbody>\n",
              "    <tr>\n",
              "      <th>0</th>\n",
              "      <td>140463</td>\n",
              "      <td>14.0463</td>\n",
              "      <td>29.7</td>\n",
              "      <td>10.0</td>\n",
              "      <td>-1.0</td>\n",
              "      <td>Abington</td>\n",
              "      <td>Montgome</td>\n",
              "    </tr>\n",
              "    <tr>\n",
              "      <th>1</th>\n",
              "      <td>113033</td>\n",
              "      <td>11.3033</td>\n",
              "      <td>24.1</td>\n",
              "      <td>18.0</td>\n",
              "      <td>4.0</td>\n",
              "      <td>Ambler</td>\n",
              "      <td>Montgome</td>\n",
              "    </tr>\n",
              "    <tr>\n",
              "      <th>2</th>\n",
              "      <td>124186</td>\n",
              "      <td>12.4186</td>\n",
              "      <td>19.5</td>\n",
              "      <td>25.0</td>\n",
              "      <td>8.0</td>\n",
              "      <td>Aston</td>\n",
              "      <td>Delaware</td>\n",
              "    </tr>\n",
              "    <tr>\n",
              "      <th>3</th>\n",
              "      <td>110490</td>\n",
              "      <td>11.0490</td>\n",
              "      <td>49.4</td>\n",
              "      <td>25.0</td>\n",
              "      <td>2.7</td>\n",
              "      <td>Bensalem</td>\n",
              "      <td>Bucks</td>\n",
              "    </tr>\n",
              "    <tr>\n",
              "      <th>4</th>\n",
              "      <td>79124</td>\n",
              "      <td>7.9124</td>\n",
              "      <td>54.1</td>\n",
              "      <td>19.0</td>\n",
              "      <td>3.9</td>\n",
              "      <td>Bristol B.</td>\n",
              "      <td>Bucks</td>\n",
              "    </tr>\n",
              "    <tr>\n",
              "      <th>...</th>\n",
              "      <td>...</td>\n",
              "      <td>...</td>\n",
              "      <td>...</td>\n",
              "      <td>...</td>\n",
              "      <td>...</td>\n",
              "      <td>...</td>\n",
              "      <td>...</td>\n",
              "    </tr>\n",
              "    <tr>\n",
              "      <th>94</th>\n",
              "      <td>174232</td>\n",
              "      <td>17.4232</td>\n",
              "      <td>13.8</td>\n",
              "      <td>25.0</td>\n",
              "      <td>4.7</td>\n",
              "      <td>Westtown</td>\n",
              "      <td>Chester</td>\n",
              "    </tr>\n",
              "    <tr>\n",
              "      <th>95</th>\n",
              "      <td>196515</td>\n",
              "      <td>19.6515</td>\n",
              "      <td>29.9</td>\n",
              "      <td>16.0</td>\n",
              "      <td>1.8</td>\n",
              "      <td>Whitemarsh</td>\n",
              "      <td>Montgome</td>\n",
              "    </tr>\n",
              "    <tr>\n",
              "      <th>96</th>\n",
              "      <td>232714</td>\n",
              "      <td>23.2714</td>\n",
              "      <td>9.9</td>\n",
              "      <td>21.0</td>\n",
              "      <td>0.2</td>\n",
              "      <td>Willistown</td>\n",
              "      <td>Chester</td>\n",
              "    </tr>\n",
              "    <tr>\n",
              "      <th>97</th>\n",
              "      <td>245920</td>\n",
              "      <td>24.5920</td>\n",
              "      <td>22.6</td>\n",
              "      <td>10.0</td>\n",
              "      <td>0.3</td>\n",
              "      <td>Wynnewood</td>\n",
              "      <td>Montgome</td>\n",
              "    </tr>\n",
              "    <tr>\n",
              "      <th>98</th>\n",
              "      <td>130953</td>\n",
              "      <td>13.0953</td>\n",
              "      <td>13.0</td>\n",
              "      <td>24.0</td>\n",
              "      <td>5.2</td>\n",
              "      <td>Yardley</td>\n",
              "      <td>Bucks</td>\n",
              "    </tr>\n",
              "  </tbody>\n",
              "</table>\n",
              "<p>99 rows × 7 columns</p>\n",
              "</div>"
            ],
            "text/plain": [
              "    HousePrice  HsPrc ($10,000)  CrimeRate  ...  PopChg        Name    County\n",
              "0       140463          14.0463       29.7  ...    -1.0    Abington  Montgome\n",
              "1       113033          11.3033       24.1  ...     4.0      Ambler  Montgome\n",
              "2       124186          12.4186       19.5  ...     8.0       Aston  Delaware\n",
              "3       110490          11.0490       49.4  ...     2.7    Bensalem     Bucks\n",
              "4        79124           7.9124       54.1  ...     3.9  Bristol B.     Bucks\n",
              "..         ...              ...        ...  ...     ...         ...       ...\n",
              "94      174232          17.4232       13.8  ...     4.7    Westtown   Chester\n",
              "95      196515          19.6515       29.9  ...     1.8  Whitemarsh  Montgome\n",
              "96      232714          23.2714        9.9  ...     0.2  Willistown   Chester\n",
              "97      245920          24.5920       22.6  ...     0.3   Wynnewood  Montgome\n",
              "98      130953          13.0953       13.0  ...     5.2     Yardley     Bucks\n",
              "\n",
              "[99 rows x 7 columns]"
            ]
          },
          "metadata": {},
          "execution_count": 22
        }
      ]
    },
    {
      "cell_type": "markdown",
      "metadata": {
        "id": "t6fMF210WUZy"
      },
      "source": [
        "# Exploring the data "
      ]
    },
    {
      "cell_type": "markdown",
      "metadata": {
        "id": "uMoB7YAZWUZy"
      },
      "source": [
        "The house price in a town is correlated with the crime rate of that town. Low crime towns tend to be associated with higher house prices and vice versa."
      ]
    },
    {
      "cell_type": "code",
      "metadata": {
        "id": "tm-tY7U5WUZz",
        "outputId": "f5abd5af-aaa7-4bb8-9135-41b01da66bbf"
      },
      "source": [
        "turicreate.show(sales[\"CrimeRate\"], sales[\"HousePrice\"])\n",
        "#not run this cell, is only to show this beatiful graph using turicreate"
      ],
      "execution_count": null,
      "outputs": [
        {
          "output_type": "display_data",
          "data": {
            "text/html": [
              "<pre>Materializing X axis SArray</pre>"
            ],
            "text/plain": [
              "Materializing X axis SArray"
            ]
          },
          "metadata": {
            "tags": []
          }
        },
        {
          "output_type": "display_data",
          "data": {
            "text/html": [
              "<pre>Materializing Y axis SArray</pre>"
            ],
            "text/plain": [
              "Materializing Y axis SArray"
            ]
          },
          "metadata": {
            "tags": []
          }
        },
        {
          "output_type": "display_data",
          "data": {
            "text/html": [
              "<html>                 <body>                     <iframe style=\"border:0;margin:0\" width=\"920\" height=\"770\" srcdoc='<html lang=\"en\">                         <head>                             <script src=\"https://cdnjs.cloudflare.com/ajax/libs/vega/3.0.8/vega.js\"></script>                             <script src=\"https://cdnjs.cloudflare.com/ajax/libs/vega-embed/3.0.0-rc7/vega-embed.js\"></script>                             <script src=\"https://cdnjs.cloudflare.com/ajax/libs/vega-tooltip/0.5.1/vega-tooltip.min.js\"></script>                             <link rel=\"stylesheet\" type=\"text/css\" href=\"https://cdnjs.cloudflare.com/ajax/libs/vega-tooltip/0.5.1/vega-tooltip.min.css\">                             <style>                             .vega-actions > a{                                 color:white;                                 text-decoration: none;                                 font-family: \"Arial\";                                 cursor:pointer;                                 padding:5px;                                 background:#AAAAAA;                                 border-radius:4px;                                 padding-left:10px;                                 padding-right:10px;                                 margin-right:5px;                             }                             .vega-actions{                                 margin-top:20px;                                 text-align:center                             }                            .vega-actions > a{                                 background:#999999;                            }                             </style>                         </head>                         <body>                             <div id=\"vis\">                             </div>                             <script>                                 var vega_json = \"{\\\"style\\\": \\\"cell\\\", \\\"axes\\\": [{\\\"scale\\\": \\\"x\\\", \\\"title\\\": \\\"X\\\", \\\"tickCount\\\": {\\\"signal\\\": \\\"ceil(width/40)\\\"}, \\\"zindex\\\": 1, \\\"labelOverlap\\\": true, \\\"orient\\\": \\\"bottom\\\"}, {\\\"domain\\\": false, \\\"scale\\\": \\\"x\\\", \\\"ticks\\\": false, \\\"labels\\\": false, \\\"tickCount\\\": {\\\"signal\\\": \\\"ceil(width/40)\\\"}, \\\"zindex\\\": 0, \\\"grid\\\": true, \\\"minExtent\\\": 0, \\\"gridScale\\\": \\\"y\\\", \\\"orient\\\": \\\"bottom\\\", \\\"maxExtent\\\": 0}, {\\\"scale\\\": \\\"y\\\", \\\"title\\\": \\\"Y\\\", \\\"tickCount\\\": {\\\"signal\\\": \\\"ceil(height/40)\\\"}, \\\"zindex\\\": 1, \\\"labelOverlap\\\": true, \\\"orient\\\": \\\"left\\\"}, {\\\"domain\\\": false, \\\"scale\\\": \\\"y\\\", \\\"ticks\\\": false, \\\"labels\\\": false, \\\"tickCount\\\": {\\\"signal\\\": \\\"ceil(height/40)\\\"}, \\\"zindex\\\": 0, \\\"grid\\\": true, \\\"minExtent\\\": 0, \\\"gridScale\\\": \\\"x\\\", \\\"orient\\\": \\\"left\\\", \\\"maxExtent\\\": 0}], \\\"title\\\": \\\"X vs. Y\\\", \\\"config\\\": {\\\"style\\\": {\\\"cell\\\": {\\\"stroke\\\": \\\"transparent\\\"}, \\\"rect\\\": {\\\"stroke\\\": \\\"rgba(200, 200, 200, 0.5)\\\"}, \\\"group-title\\\": {\\\"fontWeight\\\": \\\"normal\\\", \\\"font\\\": \\\"HelveticaNeue, Arial\\\", \\\"fontSize\\\": 29, \\\"fill\\\": \\\"rgba(0,0,0,0.65)\\\"}}, \\\"title\\\": {\\\"color\\\": \\\"rgba(0,0,0,0.847)\\\", \\\"fontWeight\\\": \\\"normal\\\", \\\"font\\\": \\\"\\\\\\\"San Francisco\\\\\\\", HelveticaNeue, Arial\\\", \\\"fontSize\\\": 18, \\\"offset\\\": 30}, \\\"axisY\\\": {\\\"minExtent\\\": 30}, \\\"range\\\": {\\\"heatmap\\\": {\\\"scheme\\\": \\\"greenblue\\\"}}, \\\"legend\\\": {\\\"labelFont\\\": \\\"\\\\\\\"San Francisco\\\\\\\", HelveticaNeue, Arial\\\", \\\"labelColor\\\": \\\"rgba(0,0,0,0.847)\\\", \\\"titleFont\\\": \\\"\\\\\\\"San Francisco\\\\\\\", HelveticaNeue, Arial\\\", \\\"cornerRadius\\\": 30, \\\"titleColor\\\": \\\"rgba(0,0,0,0.847)\\\", \\\"gradientLength\\\": 608}, \\\"axis\\\": {\\\"titlePadding\\\": 20, \\\"titleColor\\\": \\\"rgba(0,0,0,0.847)\\\", \\\"titleFont\\\": \\\"\\\\\\\"San Francisco\\\\\\\", HelveticaNeue, Arial\\\", \\\"labelPadding\\\": 10, \\\"labelFont\\\": \\\"\\\\\\\"San Francisco\\\\\\\", HelveticaNeue, Arial\\\", \\\"labelFontSize\\\": 12, \\\"labelColor\\\": \\\"rgba(0,0,0,0.847)\\\", \\\"gridColor\\\": \\\"rgba(204,204,204,1.0)\\\", \\\"titleFontSize\\\": 14, \\\"tickColor\\\": \\\"rgb(136,136,136)\\\", \\\"titleFontWeight\\\": \\\"normal\\\"}}, \\\"scales\\\": [{\\\"domain\\\": {\\\"field\\\": \\\"x\\\", \\\"data\\\": \\\"source_2\\\"}, \\\"name\\\": \\\"x\\\", \\\"zero\\\": true, \\\"range\\\": [0, {\\\"signal\\\": \\\"width\\\"}], \\\"type\\\": \\\"linear\\\", \\\"nice\\\": true}, {\\\"domain\\\": {\\\"field\\\": \\\"y\\\", \\\"data\\\": \\\"source_2\\\"}, \\\"name\\\": \\\"y\\\", \\\"zero\\\": true, \\\"range\\\": [{\\\"signal\\\": \\\"height\\\"}, 0], \\\"type\\\": \\\"linear\\\", \\\"nice\\\": true}], \\\"autosize\\\": {\\\"contains\\\": \\\"padding\\\", \\\"type\\\": \\\"fit\\\", \\\"resize\\\": false}, \\\"height\\\": 550, \\\"padding\\\": 8, \\\"width\\\": 720, \\\"marks\\\": [{\\\"encode\\\": {\\\"hover\\\": {\\\"fill\\\": {\\\"value\\\": \\\"#7EC2F3\\\"}}, \\\"update\\\": {\\\"y\\\": {\\\"field\\\": \\\"y\\\", \\\"scale\\\": \\\"y\\\", \\\"title\\\": \\\"Miles per Gallon\\\"}, \\\"x\\\": {\\\"field\\\": \\\"x\\\", \\\"scale\\\": \\\"x\\\"}, \\\"shape\\\": {\\\"value\\\": \\\"circle\\\"}, \\\"opacity\\\": {\\\"value\\\": 0.7}, \\\"fill\\\": {\\\"value\\\": \\\"#108EE9\\\"}}}, \\\"from\\\": {\\\"data\\\": \\\"source_2\\\"}, \\\"style\\\": [\\\"circle\\\"], \\\"type\\\": \\\"symbol\\\", \\\"name\\\": \\\"marks\\\"}], \\\"$schema\\\": \\\"https://vega.github.io/schema/vega/v4.json\\\", \\\"data\\\": [{\\\"values\\\": [{\\\"y\\\": 140463, \\\"x\\\": 29.7}, {\\\"y\\\": 113033, \\\"x\\\": 24.1}, {\\\"y\\\": 124186, \\\"x\\\": 19.5}, {\\\"y\\\": 110490, \\\"x\\\": 49.4}, {\\\"y\\\": 79124, \\\"x\\\": 54.1}, {\\\"y\\\": 92634, \\\"x\\\": 48.6}, {\\\"y\\\": 89246, \\\"x\\\": 30.8}, {\\\"y\\\": 195145, \\\"x\\\": 10.8}, {\\\"y\\\": 297342, \\\"x\\\": 20.2}, {\\\"y\\\": 264298, \\\"x\\\": 20.4}, {\\\"y\\\": 134342, \\\"x\\\": 17.3}, {\\\"y\\\": 147600, \\\"x\\\": 50.3}, {\\\"y\\\": 77370, \\\"x\\\": 34.2}, {\\\"y\\\": 170822, \\\"x\\\": 33.7}, {\\\"y\\\": 40642, \\\"x\\\": 45.7}, {\\\"y\\\": 71359, \\\"x\\\": 22.3}, {\\\"y\\\": 104923, \\\"x\\\": 48.1}, {\\\"y\\\": 190317, \\\"x\\\": 19.4}, {\\\"y\\\": 215512, \\\"x\\\": 71.9}, {\\\"y\\\": 178105, \\\"x\\\": 45.1}, {\\\"y\\\": 131025, \\\"x\\\": 31.3}, {\\\"y\\\": 149844, \\\"x\\\": 24.9}, {\\\"y\\\": 170556, \\\"x\\\": 27.2}, {\\\"y\\\": 280969, \\\"x\\\": 17.7}, {\\\"y\\\": 114233, \\\"x\\\": 29.0}, {\\\"y\\\": 74502, \\\"x\\\": 21.4}, {\\\"y\\\": 475112, \\\"x\\\": 28.6}, {\\\"y\\\": 97167, \\\"x\\\": 29.3}, {\\\"y\\\": 114572, \\\"x\\\": 17.5}, {\\\"y\\\": 436348, \\\"x\\\": 16.5}, {\\\"y\\\": 389302, \\\"x\\\": 17.8}, {\\\"y\\\": 122392, \\\"x\\\": 17.3}, {\\\"y\\\": 130436, \\\"x\\\": 31.2}, {\\\"y\\\": 272790, \\\"x\\\": 14.5}, {\\\"y\\\": 194435, \\\"x\\\": 15.7}, {\\\"y\\\": 299621, \\\"x\\\": 28.6}, {\\\"y\\\": 210884, \\\"x\\\": 20.8}, {\\\"y\\\": 112471, \\\"x\\\": 29.3}, {\\\"y\\\": 93738, \\\"x\\\": 19.3}, {\\\"y\\\": 121024, \\\"x\\\": 39.5}, {\\\"y\\\": 156035, \\\"x\\\": 13.0}, {\\\"y\\\": 185404, \\\"x\\\": 24.1}, {\\\"y\\\": 126160, \\\"x\\\": 38.0}, {\\\"y\\\": 143072, \\\"x\\\": 40.1}, {\\\"y\\\": 96769, \\\"x\\\": 36.1}, {\\\"y\\\": 94014, \\\"x\\\": 26.6}, {\\\"y\\\": 118214, \\\"x\\\": 25.1}, {\\\"y\\\": 157446, \\\"x\\\": 14.6}, {\\\"y\\\": 150283, \\\"x\\\": 18.2}, {\\\"y\\\": 153842, \\\"x\\\": 15.3}, {\\\"y\\\": 197214, \\\"x\\\": 15.2}, {\\\"y\\\": 206127, \\\"x\\\": 17.4}, {\\\"y\\\": 71981, \\\"x\\\": 73.3}, {\\\"y\\\": 169401, \\\"x\\\": 7.1}, {\\\"y\\\": 99843, \\\"x\\\": 12.5}, {\\\"y\\\": 60000, \\\"x\\\": 45.8}, {\\\"y\\\": 28000, \\\"x\\\": 44.9}, {\\\"y\\\": 60000, \\\"x\\\": 65.0}, {\\\"y\\\": 61800, \\\"x\\\": 49.9}, {\\\"y\\\": 38000, \\\"x\\\": 54.8}, {\\\"y\\\": 38000, \\\"x\\\": 53.5}, {\\\"y\\\": 42000, \\\"x\\\": 69.9}, {\\\"y\\\": 96200, \\\"x\\\": 366.1}, {\\\"y\\\": 103087, \\\"x\\\": 24.6}, {\\\"y\\\": 147720, \\\"x\\\": 58.6}, {\\\"y\\\": 78175, \\\"x\\\": 53.2}, {\\\"y\\\": 92215, \\\"x\\\": 17.4}, {\\\"y\\\": 271804, \\\"x\\\": 15.5}, {\\\"y\\\": 119566, \\\"x\\\": 14.5}, {\\\"y\\\": 100231, \\\"x\\\": 24.1}, {\\\"y\\\": 95831, \\\"x\\\": 21.2}, {\\\"y\\\": 229711, \\\"x\\\": 9.8}, {\\\"y\\\": 74308, \\\"x\\\": 29.9}, {\\\"y\\\": 259506, \\\"x\\\": 7.2}, {\\\"y\\\": 159573, \\\"x\\\": 19.4}, {\\\"y\\\": 147176, \\\"x\\\": 41.1}, {\\\"y\\\": 205732, \\\"x\\\": 11.2}, {\\\"y\\\": 215783, \\\"x\\\": 21.2}, {\\\"y\\\": 116710, \\\"x\\\": 42.8}, {\\\"y\\\": 359112, \\\"x\\\": 9.4}, {\\\"y\\\": 189959, \\\"x\\\": 61.7}, {\\\"y\\\": 133198, \\\"x\\\": 19.4}, {\\\"y\\\": 242821, \\\"x\\\": 6.6}, {\\\"y\\\": 142811, \\\"x\\\": 15.9}, {\\\"y\\\": 200498, \\\"x\\\": 18.8}, {\\\"y\\\": 199065, \\\"x\\\": 13.2}, {\\\"y\\\": 93648, \\\"x\\\": 34.5}, {\\\"y\\\": 163001, \\\"x\\\": 22.1}, {\\\"y\\\": 436348, \\\"x\\\": 22.1}, {\\\"y\\\": 124478, \\\"x\\\": 71.9}, {\\\"y\\\": 168276, \\\"x\\\": 31.9}, {\\\"y\\\": 114157, \\\"x\\\": 44.6}, {\\\"y\\\": 130088, \\\"x\\\": 28.6}, {\\\"y\\\": 152624, \\\"x\\\": 24.0}, {\\\"y\\\": 174232, \\\"x\\\": 13.8}, {\\\"y\\\": 196515, \\\"x\\\": 29.9}, {\\\"y\\\": 232714, \\\"x\\\": 9.9}, {\\\"y\\\": 245920, \\\"x\\\": 22.6}, {\\\"y\\\": 130953, \\\"x\\\": 13.0}], \\\"name\\\": \\\"source_2\\\"}]}\";                                 var vega_json_parsed = JSON.parse(vega_json);                                 var toolTipOpts = {                                     showAllFields: true                                 };                                 if(vega_json_parsed[\"metadata\"] != null){                                     if(vega_json_parsed[\"metadata\"][\"bubbleOpts\"] != null){                                         toolTipOpts = vega_json_parsed[\"metadata\"][\"bubbleOpts\"];                                     };                                 };                                 vegaEmbed(\"#vis\", vega_json_parsed).then(function (result) {                                     vegaTooltip.vega(result.view, toolTipOpts);                                  });                             </script>                         </body>                     </html>' src=\"demo_iframe_srcdoc.htm\">                         <p>Your browser does not support iframes.</p>                     </iframe>                 </body>             </html>"
            ],
            "text/plain": [
              "<IPython.core.display.HTML object>"
            ]
          },
          "metadata": {
            "tags": []
          }
        }
      ]
    },
    {
      "cell_type": "code",
      "metadata": {
        "colab": {
          "base_uri": "https://localhost:8080/",
          "height": 296
        },
        "id": "LPS5LUIucnEo",
        "outputId": "c23ef249-2c9b-45a3-ea7f-84963cb1df3b"
      },
      "source": [
        "sales.plot(x=\"CrimeRate\",y=\"HousePrice\",style='o',grid=True)"
      ],
      "execution_count": 23,
      "outputs": [
        {
          "output_type": "execute_result",
          "data": {
            "text/plain": [
              "<matplotlib.axes._subplots.AxesSubplot at 0x7ff57d7e1450>"
            ]
          },
          "metadata": {},
          "execution_count": 23
        },
        {
          "output_type": "display_data",
          "data": {
            "image/png": "[encoded data removed]",
            "text/plain": [
              "<Figure size 432x288 with 1 Axes>"
            ]
          },
          "metadata": {
            "needs_background": "light"
          }
        }
      ]
    },
    {
      "cell_type": "markdown",
      "metadata": {
        "id": "vUqyyusFWUZz"
      },
      "source": [
        "# Fit the regression model using crime as the feature"
      ]
    },
    {
      "cell_type": "code",
      "metadata": {
        "colab": {
          "base_uri": "https://localhost:8080/"
        },
        "id": "58sakX-PP__E",
        "outputId": "d7d0b810-1574-4ce7-e61a-acca27470d66"
      },
      "source": [
        "sales.shape"
      ],
      "execution_count": 24,
      "outputs": [
        {
          "output_type": "execute_result",
          "data": {
            "text/plain": [
              "(99, 7)"
            ]
          },
          "metadata": {},
          "execution_count": 24
        }
      ]
    },
    {
      "cell_type": "code",
      "metadata": {
        "id": "toNsMaxSQD3b"
      },
      "source": [
        "df_x=pd.DataFrame(sales[\"CrimeRate\"])\n",
        "df_y=pd.DataFrame(sales[\"HousePrice\"])"
      ],
      "execution_count": 25,
      "outputs": []
    },
    {
      "cell_type": "code",
      "metadata": {
        "colab": {
          "base_uri": "https://localhost:8080/"
        },
        "id": "gJUxxEuac77q",
        "outputId": "471c474c-700e-44e9-ac3b-22aeacdade7f"
      },
      "source": [
        "df_x.shape"
      ],
      "execution_count": 26,
      "outputs": [
        {
          "output_type": "execute_result",
          "data": {
            "text/plain": [
              "(99, 1)"
            ]
          },
          "metadata": {},
          "execution_count": 26
        }
      ]
    },
    {
      "cell_type": "code",
      "metadata": {
        "colab": {
          "base_uri": "https://localhost:8080/"
        },
        "id": "s2FIDWjygVNW",
        "outputId": "c7bc1ff2-1b64-4e69-f6ff-b5797556e2ce"
      },
      "source": [
        "sales[\"CrimeRate\"]"
      ],
      "execution_count": 27,
      "outputs": [
        {
          "output_type": "execute_result",
          "data": {
            "text/plain": [
              "0     29.7\n",
              "1     24.1\n",
              "2     19.5\n",
              "3     49.4\n",
              "4     54.1\n",
              "      ... \n",
              "94    13.8\n",
              "95    29.9\n",
              "96     9.9\n",
              "97    22.6\n",
              "98    13.0\n",
              "Name: CrimeRate, Length: 99, dtype: float64"
            ]
          },
          "metadata": {},
          "execution_count": 27
        }
      ]
    },
    {
      "cell_type": "code",
      "metadata": {
        "colab": {
          "base_uri": "https://localhost:8080/"
        },
        "id": "WrN94qFwlGgz",
        "outputId": "ba141025-445d-4025-8571-3d6eec1b2140"
      },
      "source": [
        "type(sales[\"CrimeRate\"])"
      ],
      "execution_count": 28,
      "outputs": [
        {
          "output_type": "execute_result",
          "data": {
            "text/plain": [
              "pandas.core.series.Series"
            ]
          },
          "metadata": {},
          "execution_count": 28
        }
      ]
    },
    {
      "cell_type": "code",
      "metadata": {
        "colab": {
          "base_uri": "https://localhost:8080/"
        },
        "id": "6-Z_XSNTnnMV",
        "outputId": "8d26878a-43cd-4336-b34c-33d563355acb"
      },
      "source": [
        "sales[\"CrimeRate\"].shape"
      ],
      "execution_count": 29,
      "outputs": [
        {
          "output_type": "execute_result",
          "data": {
            "text/plain": [
              "(99,)"
            ]
          },
          "metadata": {},
          "execution_count": 29
        }
      ]
    },
    {
      "cell_type": "code",
      "metadata": {
        "colab": {
          "base_uri": "https://localhost:8080/"
        },
        "id": "Kq_XvZvFanMc",
        "outputId": "bf211602-3e57-4bcf-8795-851ace6e558f"
      },
      "source": [
        "#afeter using \n",
        "#salestes=sales[\"CrimeRate\"].values.reshape(1,-1)\n",
        "#salestes.shape"
      ],
      "execution_count": null,
      "outputs": [
        {
          "output_type": "execute_result",
          "data": {
            "text/plain": [
              "(1, 99)"
            ]
          },
          "metadata": {
            "tags": []
          },
          "execution_count": 8
        }
      ]
    },
    {
      "cell_type": "code",
      "metadata": {
        "colab": {
          "base_uri": "https://localhost:8080/"
        },
        "id": "FNFRyqVzlMU0",
        "outputId": "cd2adfa4-e505-4bc9-bea2-e2653dbbd604"
      },
      "source": [
        "#type(salestes)"
      ],
      "execution_count": null,
      "outputs": [
        {
          "output_type": "execute_result",
          "data": {
            "text/plain": [
              "numpy.ndarray"
            ]
          },
          "metadata": {
            "tags": []
          },
          "execution_count": 9
        }
      ]
    },
    {
      "cell_type": "code",
      "metadata": {
        "id": "vcDUtBmjm6EM"
      },
      "source": [
        "from sklearn.linear_model import LinearRegression"
      ],
      "execution_count": 30,
      "outputs": []
    },
    {
      "cell_type": "code",
      "metadata": {
        "id": "FzRdocNNathJ"
      },
      "source": [
        "#x_CrimeRate=sales[\"CrimeRate\"].values.reshape(1,-1)\n",
        "#y_HousePrice=sales[\"HousePrice\"].values.reshape(1,-1)"
      ],
      "execution_count": null,
      "outputs": []
    },
    {
      "cell_type": "code",
      "metadata": {
        "id": "ABuDcx1XnY5n"
      },
      "source": [
        "crime_model = LinearRegression().fit(df_x,df_y)"
      ],
      "execution_count": 31,
      "outputs": []
    },
    {
      "cell_type": "code",
      "metadata": {
        "id": "bZl9gaqjJgik"
      },
      "source": [
        "# Tambien podria ser\n",
        "#crime_model_test = LinearRegression().fit(pd.DataFrame(sales[\"CrimeRate\"]),pd.DataFrame(sales[\"HousePrice\"]))"
      ],
      "execution_count": null,
      "outputs": []
    },
    {
      "cell_type": "code",
      "metadata": {
        "colab": {
          "base_uri": "https://localhost:8080/"
        },
        "id": "A_xNv3LEo9n6",
        "outputId": "1a99886d-f2c1-4636-c1dd-b29933cef99a"
      },
      "source": [
        "crime_model.get_params()"
      ],
      "execution_count": 32,
      "outputs": [
        {
          "output_type": "execute_result",
          "data": {
            "text/plain": [
              "{'copy_X': True, 'fit_intercept': True, 'n_jobs': None, 'normalize': False}"
            ]
          },
          "metadata": {},
          "execution_count": 32
        }
      ]
    },
    {
      "cell_type": "code",
      "metadata": {
        "colab": {
          "base_uri": "https://localhost:8080/"
        },
        "id": "Xy8OEQkCql0m",
        "outputId": "9d63ef03-a4db-4daf-deda-64d702d29e3e"
      },
      "source": [
        "crime_model.coef_"
      ],
      "execution_count": 33,
      "outputs": [
        {
          "output_type": "execute_result",
          "data": {
            "text/plain": [
              "array([[-576.90812768]])"
            ]
          },
          "metadata": {},
          "execution_count": 33
        }
      ]
    },
    {
      "cell_type": "code",
      "metadata": {
        "colab": {
          "base_uri": "https://localhost:8080/"
        },
        "id": "QbTPXBG-rPKB",
        "outputId": "91a592d0-31fd-436d-9aa0-258e4141a8fd"
      },
      "source": [
        "crime_model.intercept_"
      ],
      "execution_count": 34,
      "outputs": [
        {
          "output_type": "execute_result",
          "data": {
            "text/plain": [
              "array([176629.40810695])"
            ]
          },
          "metadata": {},
          "execution_count": 34
        }
      ]
    },
    {
      "cell_type": "code",
      "metadata": {
        "id": "XzXiu3YkWUZz"
      },
      "source": [
        "#crime_model = turicreate.linear_regression.create(\n",
        "#    sales,\n",
        "#    target=\"HousePrice\",\n",
        "#    features=['CrimeRate'],\n",
        "#    validation_set=None,\n",
        "#    verbose=False\n",
        "#)"
      ],
      "execution_count": null,
      "outputs": []
    },
    {
      "cell_type": "markdown",
      "metadata": {
        "id": "yFoVQkl0WUZ0"
      },
      "source": [
        "# Let's see what our fit looks like"
      ]
    },
    {
      "cell_type": "markdown",
      "metadata": {
        "id": "7lU1pooNWUZ0"
      },
      "source": [
        "Matplotlib is a Python plotting library that is also useful for plotting.  You can install it with:\n",
        "\n",
        "'pip install matplotlib'"
      ]
    },
    {
      "cell_type": "code",
      "metadata": {
        "id": "-tnZnI2gWUZ0"
      },
      "source": [
        "import matplotlib.pyplot as plt\n",
        "%matplotlib inline"
      ],
      "execution_count": 35,
      "outputs": []
    },
    {
      "cell_type": "code",
      "metadata": {
        "id": "lMi5fWgweBu1"
      },
      "source": [
        "prediction=crime_model.predict(df_x)"
      ],
      "execution_count": 36,
      "outputs": []
    },
    {
      "cell_type": "code",
      "metadata": {
        "colab": {
          "base_uri": "https://localhost:8080/"
        },
        "id": "Etdh3XD8eqkw",
        "outputId": "c36ed335-22af-4bdb-8279-be7de4259792"
      },
      "source": [
        "prediction.shape"
      ],
      "execution_count": 37,
      "outputs": [
        {
          "output_type": "execute_result",
          "data": {
            "text/plain": [
              "(99, 1)"
            ]
          },
          "metadata": {},
          "execution_count": 37
        }
      ]
    },
    {
      "cell_type": "code",
      "metadata": {
        "colab": {
          "base_uri": "https://localhost:8080/"
        },
        "id": "frfykuB7oVgr",
        "outputId": "5f07100e-9a4d-4692-b833-8d5030e0fc3a"
      },
      "source": [
        "prediction"
      ],
      "execution_count": 38,
      "outputs": [
        {
          "output_type": "execute_result",
          "data": {
            "text/plain": [
              "array([[159495.23671479],\n",
              "       [162725.92222981],\n",
              "       [165379.69961715],\n",
              "       [148130.14659944],\n",
              "       [145418.67839934],\n",
              "       [148591.67310159],\n",
              "       [158860.63777434],\n",
              "       [170398.80032798],\n",
              "       [164975.86392777],\n",
              "       [164860.48230223],\n",
              "       [166648.89749805],\n",
              "       [147610.92928453],\n",
              "       [156899.15014022],\n",
              "       [157187.60420406],\n",
              "       [150264.70667187],\n",
              "       [163764.35685964],\n",
              "       [148880.12716543],\n",
              "       [165437.39042992],\n",
              "       [135149.71372659],\n",
              "       [150610.85154848],\n",
              "       [158572.1837105 ],\n",
              "       [162264.39572766],\n",
              "       [160937.50703399],\n",
              "       [166418.13424698],\n",
              "       [159899.07240416],\n",
              "       [164283.57417455],\n",
              "       [160129.83565524],\n",
              "       [159725.99996586],\n",
              "       [166533.51587251],\n",
              "       [167110.42400019],\n",
              "       [166360.44343421],\n",
              "       [166648.89749805],\n",
              "       [158629.87452326],\n",
              "       [168264.24025556],\n",
              "       [167571.95050234],\n",
              "       [160129.83565524],\n",
              "       [164629.71905116],\n",
              "       [159725.99996586],\n",
              "       [165495.08124268],\n",
              "       [153841.5370635 ],\n",
              "       [169129.60244708],\n",
              "       [162725.92222981],\n",
              "       [154706.89925502],\n",
              "       [153495.39218689],\n",
              "       [155803.02469762],\n",
              "       [161283.6519106 ],\n",
              "       [162149.01410213],\n",
              "       [168206.54944279],\n",
              "       [166129.68018313],\n",
              "       [167802.71375341],\n",
              "       [167860.40456618],\n",
              "       [166591.20668528],\n",
              "       [134342.04234784],\n",
              "       [172533.36040041],\n",
              "       [169418.05651092],\n",
              "       [150207.0158591 ],\n",
              "       [150726.23317402],\n",
              "       [139130.3798076 ],\n",
              "       [147841.6925356 ],\n",
              "       [145014.84270996],\n",
              "       [145764.82327595],\n",
              "       [136303.52998196],\n",
              "       [-34576.65743757],\n",
              "       [162437.46816597],\n",
              "       [142822.59182477],\n",
              "       [145937.89571425],\n",
              "       [166591.20668528],\n",
              "       [167687.33212788],\n",
              "       [168264.24025556],\n",
              "       [162725.92222981],\n",
              "       [164398.95580009],\n",
              "       [170975.70845567],\n",
              "       [159379.85508925],\n",
              "       [172475.66958764],\n",
              "       [165437.39042992],\n",
              "       [152918.48405921],\n",
              "       [170168.03707691],\n",
              "       [164398.95580009],\n",
              "       [151937.74024215],\n",
              "       [171206.47170674],\n",
              "       [141034.17662895],\n",
              "       [165437.39042992],\n",
              "       [172821.81446425],\n",
              "       [167456.5688768 ],\n",
              "       [165783.53530653],\n",
              "       [169014.22082155],\n",
              "       [156726.07770191],\n",
              "       [163879.73848517],\n",
              "       [163879.73848517],\n",
              "       [135149.71372659],\n",
              "       [158226.03883389],\n",
              "       [150899.30561232],\n",
              "       [160129.83565524],\n",
              "       [162783.61304258],\n",
              "       [168668.07594494],\n",
              "       [159379.85508925],\n",
              "       [170918.0176429 ],\n",
              "       [163591.28442133],\n",
              "       [169129.60244708]])"
            ]
          },
          "metadata": {},
          "execution_count": 38
        }
      ]
    },
    {
      "cell_type": "code",
      "metadata": {
        "scrolled": true,
        "id": "NKppB8WeWUZ1",
        "colab": {
          "base_uri": "https://localhost:8080/",
          "height": 304
        },
        "outputId": "65f520fd-7ea7-4c1c-c896-c68e752629a2"
      },
      "source": [
        "plt.plot(sales['CrimeRate'],sales['HousePrice'],'.',\n",
        "       df_x,prediction,'--')"
      ],
      "execution_count": 39,
      "outputs": [
        {
          "output_type": "execute_result",
          "data": {
            "text/plain": [
              "[<matplotlib.lines.Line2D at 0x7ff56d7c0f90>,\n",
              " <matplotlib.lines.Line2D at 0x7ff56d7ea450>]"
            ]
          },
          "metadata": {},
          "execution_count": 39
        },
        {
          "output_type": "display_data",
          "data": {
            "image/png": "[encoded data removed]",
            "text/plain": [
              "<Figure size 432x288 with 1 Axes>"
            ]
          },
          "metadata": {
            "needs_background": "light"
          }
        }
      ]
    },
    {
      "cell_type": "code",
      "metadata": {
        "colab": {
          "base_uri": "https://localhost:8080/",
          "height": 304
        },
        "id": "rW5D47NUJMGt",
        "outputId": "a0631a08-6c43-4e71-f00b-88eb98f61e3b"
      },
      "source": [
        "plt.plot(sales['CrimeRate'],sales['HousePrice'],'.',\n",
        "       sales['CrimeRate'],prediction,'--')"
      ],
      "execution_count": 40,
      "outputs": [
        {
          "output_type": "execute_result",
          "data": {
            "text/plain": [
              "[<matplotlib.lines.Line2D at 0x7ff56d736ed0>,\n",
              " <matplotlib.lines.Line2D at 0x7ff56d736fd0>]"
            ]
          },
          "metadata": {},
          "execution_count": 40
        },
        {
          "output_type": "display_data",
          "data": {
            "image/png": "[encoded data removed]",
            "text/plain": [
              "<Figure size 432x288 with 1 Axes>"
            ]
          },
          "metadata": {
            "needs_background": "light"
          }
        }
      ]
    },
    {
      "cell_type": "markdown",
      "metadata": {
        "id": "44AN-50VWUZ1"
      },
      "source": [
        "Above: blue dots are original data, orange line is the fit from the simple regression."
      ]
    },
    {
      "cell_type": "markdown",
      "metadata": {
        "id": "QWHli-x9W10B"
      },
      "source": [
        "As we can see, the outlier biases the linear regression model."
      ]
    },
    {
      "cell_type": "markdown",
      "metadata": {
        "id": "z354rQ3ZWUZ1"
      },
      "source": [
        "# Remove Center City and redo the analysis"
      ]
    },
    {
      "cell_type": "markdown",
      "metadata": {
        "id": "ESF_QyvwWUZ1"
      },
      "source": [
        "Center City is the one observation with an extremely high crime rate, yet house prices are not very low.  This point does not follow the trend of the rest of the data very well.  A question is how much including Center City is influencing our fit on the other datapoints.  Let's remove this datapoint and see what happens."
      ]
    },
    {
      "cell_type": "code",
      "metadata": {
        "id": "r3u9lP8DWUZ2"
      },
      "source": [
        "sales_noCC = sales[sales['MilesPhila'] != 0.0] "
      ],
      "execution_count": 41,
      "outputs": []
    },
    {
      "cell_type": "code",
      "metadata": {
        "id": "-YPiGYyqWUZ2",
        "outputId": "dd9f3e8f-0b1f-4a57-c2d8-f03db9990991"
      },
      "source": [
        "#.show(sales_noCC['CrimeRate'], sales_noCC['HousePrice'])"
      ],
      "execution_count": null,
      "outputs": [
        {
          "output_type": "display_data",
          "data": {
            "text/html": [
              "<pre>Materializing X axis SArray</pre>"
            ],
            "text/plain": [
              "Materializing X axis SArray"
            ]
          },
          "metadata": {
            "tags": []
          }
        },
        {
          "output_type": "display_data",
          "data": {
            "text/html": [
              "<pre>Materializing Y axis SArray</pre>"
            ],
            "text/plain": [
              "Materializing Y axis SArray"
            ]
          },
          "metadata": {
            "tags": []
          }
        },
        {
          "output_type": "display_data",
          "data": {
            "text/html": [
              "<html>                 <body>                     <iframe style=\"border:0;margin:0\" width=\"920\" height=\"770\" srcdoc='<html lang=\"en\">                         <head>                             <script src=\"https://cdnjs.cloudflare.com/ajax/libs/vega/3.0.8/vega.js\"></script>                             <script src=\"https://cdnjs.cloudflare.com/ajax/libs/vega-embed/3.0.0-rc7/vega-embed.js\"></script>                             <script src=\"https://cdnjs.cloudflare.com/ajax/libs/vega-tooltip/0.5.1/vega-tooltip.min.js\"></script>                             <link rel=\"stylesheet\" type=\"text/css\" href=\"https://cdnjs.cloudflare.com/ajax/libs/vega-tooltip/0.5.1/vega-tooltip.min.css\">                             <style>                             .vega-actions > a{                                 color:white;                                 text-decoration: none;                                 font-family: \"Arial\";                                 cursor:pointer;                                 padding:5px;                                 background:#AAAAAA;                                 border-radius:4px;                                 padding-left:10px;                                 padding-right:10px;                                 margin-right:5px;                             }                             .vega-actions{                                 margin-top:20px;                                 text-align:center                             }                            .vega-actions > a{                                 background:#999999;                            }                             </style>                         </head>                         <body>                             <div id=\"vis\">                             </div>                             <script>                                 var vega_json = \"{\\\"style\\\": \\\"cell\\\", \\\"axes\\\": [{\\\"scale\\\": \\\"x\\\", \\\"title\\\": \\\"X\\\", \\\"tickCount\\\": {\\\"signal\\\": \\\"ceil(width/40)\\\"}, \\\"zindex\\\": 1, \\\"labelOverlap\\\": true, \\\"orient\\\": \\\"bottom\\\"}, {\\\"domain\\\": false, \\\"scale\\\": \\\"x\\\", \\\"ticks\\\": false, \\\"labels\\\": false, \\\"tickCount\\\": {\\\"signal\\\": \\\"ceil(width/40)\\\"}, \\\"zindex\\\": 0, \\\"grid\\\": true, \\\"minExtent\\\": 0, \\\"gridScale\\\": \\\"y\\\", \\\"orient\\\": \\\"bottom\\\", \\\"maxExtent\\\": 0}, {\\\"scale\\\": \\\"y\\\", \\\"title\\\": \\\"Y\\\", \\\"tickCount\\\": {\\\"signal\\\": \\\"ceil(height/40)\\\"}, \\\"zindex\\\": 1, \\\"labelOverlap\\\": true, \\\"orient\\\": \\\"left\\\"}, {\\\"domain\\\": false, \\\"scale\\\": \\\"y\\\", \\\"ticks\\\": false, \\\"labels\\\": false, \\\"tickCount\\\": {\\\"signal\\\": \\\"ceil(height/40)\\\"}, \\\"zindex\\\": 0, \\\"grid\\\": true, \\\"minExtent\\\": 0, \\\"gridScale\\\": \\\"x\\\", \\\"orient\\\": \\\"left\\\", \\\"maxExtent\\\": 0}], \\\"title\\\": \\\"X vs. Y\\\", \\\"config\\\": {\\\"style\\\": {\\\"cell\\\": {\\\"stroke\\\": \\\"transparent\\\"}, \\\"rect\\\": {\\\"stroke\\\": \\\"rgba(200, 200, 200, 0.5)\\\"}, \\\"group-title\\\": {\\\"fontWeight\\\": \\\"normal\\\", \\\"font\\\": \\\"HelveticaNeue, Arial\\\", \\\"fontSize\\\": 29, \\\"fill\\\": \\\"rgba(0,0,0,0.65)\\\"}}, \\\"title\\\": {\\\"color\\\": \\\"rgba(0,0,0,0.847)\\\", \\\"fontWeight\\\": \\\"normal\\\", \\\"font\\\": \\\"\\\\\\\"San Francisco\\\\\\\", HelveticaNeue, Arial\\\", \\\"fontSize\\\": 18, \\\"offset\\\": 30}, \\\"axisY\\\": {\\\"minExtent\\\": 30}, \\\"range\\\": {\\\"heatmap\\\": {\\\"scheme\\\": \\\"greenblue\\\"}}, \\\"legend\\\": {\\\"labelFont\\\": \\\"\\\\\\\"San Francisco\\\\\\\", HelveticaNeue, Arial\\\", \\\"labelColor\\\": \\\"rgba(0,0,0,0.847)\\\", \\\"titleFont\\\": \\\"\\\\\\\"San Francisco\\\\\\\", HelveticaNeue, Arial\\\", \\\"cornerRadius\\\": 30, \\\"titleColor\\\": \\\"rgba(0,0,0,0.847)\\\", \\\"gradientLength\\\": 608}, \\\"axis\\\": {\\\"titlePadding\\\": 20, \\\"titleColor\\\": \\\"rgba(0,0,0,0.847)\\\", \\\"titleFont\\\": \\\"\\\\\\\"San Francisco\\\\\\\", HelveticaNeue, Arial\\\", \\\"labelPadding\\\": 10, \\\"labelFont\\\": \\\"\\\\\\\"San Francisco\\\\\\\", HelveticaNeue, Arial\\\", \\\"labelFontSize\\\": 12, \\\"labelColor\\\": \\\"rgba(0,0,0,0.847)\\\", \\\"gridColor\\\": \\\"rgba(204,204,204,1.0)\\\", \\\"titleFontSize\\\": 14, \\\"tickColor\\\": \\\"rgb(136,136,136)\\\", \\\"titleFontWeight\\\": \\\"normal\\\"}}, \\\"scales\\\": [{\\\"domain\\\": {\\\"field\\\": \\\"x\\\", \\\"data\\\": \\\"source_2\\\"}, \\\"name\\\": \\\"x\\\", \\\"zero\\\": true, \\\"range\\\": [0, {\\\"signal\\\": \\\"width\\\"}], \\\"type\\\": \\\"linear\\\", \\\"nice\\\": true}, {\\\"domain\\\": {\\\"field\\\": \\\"y\\\", \\\"data\\\": \\\"source_2\\\"}, \\\"name\\\": \\\"y\\\", \\\"zero\\\": true, \\\"range\\\": [{\\\"signal\\\": \\\"height\\\"}, 0], \\\"type\\\": \\\"linear\\\", \\\"nice\\\": true}], \\\"autosize\\\": {\\\"contains\\\": \\\"padding\\\", \\\"type\\\": \\\"fit\\\", \\\"resize\\\": false}, \\\"height\\\": 550, \\\"padding\\\": 8, \\\"width\\\": 720, \\\"marks\\\": [{\\\"encode\\\": {\\\"hover\\\": {\\\"fill\\\": {\\\"value\\\": \\\"#7EC2F3\\\"}}, \\\"update\\\": {\\\"y\\\": {\\\"field\\\": \\\"y\\\", \\\"scale\\\": \\\"y\\\", \\\"title\\\": \\\"Miles per Gallon\\\"}, \\\"x\\\": {\\\"field\\\": \\\"x\\\", \\\"scale\\\": \\\"x\\\"}, \\\"shape\\\": {\\\"value\\\": \\\"circle\\\"}, \\\"opacity\\\": {\\\"value\\\": 0.7}, \\\"fill\\\": {\\\"value\\\": \\\"#108EE9\\\"}}}, \\\"from\\\": {\\\"data\\\": \\\"source_2\\\"}, \\\"style\\\": [\\\"circle\\\"], \\\"type\\\": \\\"symbol\\\", \\\"name\\\": \\\"marks\\\"}], \\\"$schema\\\": \\\"https://vega.github.io/schema/vega/v4.json\\\", \\\"data\\\": [{\\\"values\\\": [{\\\"y\\\": 140463, \\\"x\\\": 29.7}, {\\\"y\\\": 113033, \\\"x\\\": 24.1}, {\\\"y\\\": 124186, \\\"x\\\": 19.5}, {\\\"y\\\": 110490, \\\"x\\\": 49.4}, {\\\"y\\\": 79124, \\\"x\\\": 54.1}, {\\\"y\\\": 92634, \\\"x\\\": 48.6}, {\\\"y\\\": 89246, \\\"x\\\": 30.8}, {\\\"y\\\": 195145, \\\"x\\\": 10.8}, {\\\"y\\\": 297342, \\\"x\\\": 20.2}, {\\\"y\\\": 264298, \\\"x\\\": 20.4}, {\\\"y\\\": 134342, \\\"x\\\": 17.3}, {\\\"y\\\": 147600, \\\"x\\\": 50.3}, {\\\"y\\\": 77370, \\\"x\\\": 34.2}, {\\\"y\\\": 170822, \\\"x\\\": 33.7}, {\\\"y\\\": 40642, \\\"x\\\": 45.7}, {\\\"y\\\": 71359, \\\"x\\\": 22.3}, {\\\"y\\\": 104923, \\\"x\\\": 48.1}, {\\\"y\\\": 190317, \\\"x\\\": 19.4}, {\\\"y\\\": 215512, \\\"x\\\": 71.9}, {\\\"y\\\": 178105, \\\"x\\\": 45.1}, {\\\"y\\\": 131025, \\\"x\\\": 31.3}, {\\\"y\\\": 149844, \\\"x\\\": 24.9}, {\\\"y\\\": 170556, \\\"x\\\": 27.2}, {\\\"y\\\": 280969, \\\"x\\\": 17.7}, {\\\"y\\\": 114233, \\\"x\\\": 29.0}, {\\\"y\\\": 74502, \\\"x\\\": 21.4}, {\\\"y\\\": 475112, \\\"x\\\": 28.6}, {\\\"y\\\": 97167, \\\"x\\\": 29.3}, {\\\"y\\\": 114572, \\\"x\\\": 17.5}, {\\\"y\\\": 436348, \\\"x\\\": 16.5}, {\\\"y\\\": 389302, \\\"x\\\": 17.8}, {\\\"y\\\": 122392, \\\"x\\\": 17.3}, {\\\"y\\\": 130436, \\\"x\\\": 31.2}, {\\\"y\\\": 272790, \\\"x\\\": 14.5}, {\\\"y\\\": 194435, \\\"x\\\": 15.7}, {\\\"y\\\": 299621, \\\"x\\\": 28.6}, {\\\"y\\\": 210884, \\\"x\\\": 20.8}, {\\\"y\\\": 112471, \\\"x\\\": 29.3}, {\\\"y\\\": 93738, \\\"x\\\": 19.3}, {\\\"y\\\": 121024, \\\"x\\\": 39.5}, {\\\"y\\\": 156035, \\\"x\\\": 13.0}, {\\\"y\\\": 185404, \\\"x\\\": 24.1}, {\\\"y\\\": 126160, \\\"x\\\": 38.0}, {\\\"y\\\": 143072, \\\"x\\\": 40.1}, {\\\"y\\\": 96769, \\\"x\\\": 36.1}, {\\\"y\\\": 94014, \\\"x\\\": 26.6}, {\\\"y\\\": 118214, \\\"x\\\": 25.1}, {\\\"y\\\": 157446, \\\"x\\\": 14.6}, {\\\"y\\\": 150283, \\\"x\\\": 18.2}, {\\\"y\\\": 153842, \\\"x\\\": 15.3}, {\\\"y\\\": 197214, \\\"x\\\": 15.2}, {\\\"y\\\": 206127, \\\"x\\\": 17.4}, {\\\"y\\\": 71981, \\\"x\\\": 73.3}, {\\\"y\\\": 169401, \\\"x\\\": 7.1}, {\\\"y\\\": 99843, \\\"x\\\": 12.5}, {\\\"y\\\": 60000, \\\"x\\\": 45.8}, {\\\"y\\\": 28000, \\\"x\\\": 44.9}, {\\\"y\\\": 60000, \\\"x\\\": 65.0}, {\\\"y\\\": 61800, \\\"x\\\": 49.9}, {\\\"y\\\": 38000, \\\"x\\\": 54.8}, {\\\"y\\\": 38000, \\\"x\\\": 53.5}, {\\\"y\\\": 42000, \\\"x\\\": 69.9}, {\\\"y\\\": 103087, \\\"x\\\": 24.6}, {\\\"y\\\": 147720, \\\"x\\\": 58.6}, {\\\"y\\\": 78175, \\\"x\\\": 53.2}, {\\\"y\\\": 92215, \\\"x\\\": 17.4}, {\\\"y\\\": 271804, \\\"x\\\": 15.5}, {\\\"y\\\": 119566, \\\"x\\\": 14.5}, {\\\"y\\\": 100231, \\\"x\\\": 24.1}, {\\\"y\\\": 95831, \\\"x\\\": 21.2}, {\\\"y\\\": 229711, \\\"x\\\": 9.8}, {\\\"y\\\": 74308, \\\"x\\\": 29.9}, {\\\"y\\\": 259506, \\\"x\\\": 7.2}, {\\\"y\\\": 159573, \\\"x\\\": 19.4}, {\\\"y\\\": 147176, \\\"x\\\": 41.1}, {\\\"y\\\": 205732, \\\"x\\\": 11.2}, {\\\"y\\\": 215783, \\\"x\\\": 21.2}, {\\\"y\\\": 116710, \\\"x\\\": 42.8}, {\\\"y\\\": 359112, \\\"x\\\": 9.4}, {\\\"y\\\": 189959, \\\"x\\\": 61.7}, {\\\"y\\\": 133198, \\\"x\\\": 19.4}, {\\\"y\\\": 242821, \\\"x\\\": 6.6}, {\\\"y\\\": 142811, \\\"x\\\": 15.9}, {\\\"y\\\": 200498, \\\"x\\\": 18.8}, {\\\"y\\\": 199065, \\\"x\\\": 13.2}, {\\\"y\\\": 93648, \\\"x\\\": 34.5}, {\\\"y\\\": 163001, \\\"x\\\": 22.1}, {\\\"y\\\": 436348, \\\"x\\\": 22.1}, {\\\"y\\\": 124478, \\\"x\\\": 71.9}, {\\\"y\\\": 168276, \\\"x\\\": 31.9}, {\\\"y\\\": 114157, \\\"x\\\": 44.6}, {\\\"y\\\": 130088, \\\"x\\\": 28.6}, {\\\"y\\\": 152624, \\\"x\\\": 24.0}, {\\\"y\\\": 174232, \\\"x\\\": 13.8}, {\\\"y\\\": 196515, \\\"x\\\": 29.9}, {\\\"y\\\": 232714, \\\"x\\\": 9.9}, {\\\"y\\\": 245920, \\\"x\\\": 22.6}, {\\\"y\\\": 130953, \\\"x\\\": 13.0}], \\\"name\\\": \\\"source_2\\\"}]}\";                                 var vega_json_parsed = JSON.parse(vega_json);                                 var toolTipOpts = {                                     showAllFields: true                                 };                                 if(vega_json_parsed[\"metadata\"] != null){                                     if(vega_json_parsed[\"metadata\"][\"bubbleOpts\"] != null){                                         toolTipOpts = vega_json_parsed[\"metadata\"][\"bubbleOpts\"];                                     };                                 };                                 vegaEmbed(\"#vis\", vega_json_parsed).then(function (result) {                                     vegaTooltip.vega(result.view, toolTipOpts);                                  });                             </script>                         </body>                     </html>' src=\"demo_iframe_srcdoc.htm\">                         <p>Your browser does not support iframes.</p>                     </iframe>                 </body>             </html>"
            ],
            "text/plain": [
              "<IPython.core.display.HTML object>"
            ]
          },
          "metadata": {
            "tags": []
          }
        }
      ]
    },
    {
      "cell_type": "code",
      "metadata": {
        "colab": {
          "base_uri": "https://localhost:8080/",
          "height": 296
        },
        "id": "HcLt5RNrZe8q",
        "outputId": "e6583afd-d700-4580-dd6f-49d68517a3f8"
      },
      "source": [
        "sales_noCC.plot(x=\"CrimeRate\",y=\"HousePrice\",style='o',grid=True)"
      ],
      "execution_count": 42,
      "outputs": [
        {
          "output_type": "execute_result",
          "data": {
            "text/plain": [
              "<matplotlib.axes._subplots.AxesSubplot at 0x7ff56d789f90>"
            ]
          },
          "metadata": {},
          "execution_count": 42
        },
        {
          "output_type": "display_data",
          "data": {
            "image/png": "[encoded data removed]",
            "text/plain": [
              "<Figure size 432x288 with 1 Axes>"
            ]
          },
          "metadata": {
            "needs_background": "light"
          }
        }
      ]
    },
    {
      "cell_type": "code",
      "metadata": {
        "colab": {
          "base_uri": "https://localhost:8080/",
          "height": 542
        },
        "id": "IA3MjCX1OHOt",
        "outputId": "655a6935-0fc2-48b7-c3d6-15d2b050b990"
      },
      "source": [
        "import plotly.express as px\n",
        "fig = px.scatter(x=sales_noCC[\"CrimeRate\"], y=sales_noCC[\"HousePrice\"])\n",
        "fig.show()"
      ],
      "execution_count": 43,
      "outputs": [
        {
          "output_type": "display_data",
          "data": {
            "text/html": [
              "<html>\n",
              "<head><meta charset=\"utf-8\" /></head>\n",
              "<body>\n",
              "    <div>\n",
              "            <script src=\"https://cdnjs.cloudflare.com/ajax/libs/mathjax/2.7.5/MathJax.js?config=TeX-AMS-MML_SVG\"></script><script type=\"text/javascript\">if (window.MathJax) {MathJax.Hub.Config({SVG: {font: \"STIX-Web\"}});}</script>\n",
              "                <script type=\"text/javascript\">window.PlotlyConfig = {MathJaxConfig: 'local'};</script>\n",
              "        <script src=\"https://cdn.plot.ly/plotly-latest.min.js\"></script>    \n",
              "            <div id=\"cdc74173-c95f-4ae5-b423-01f49b1a08e2\" class=\"plotly-graph-div\" style=\"height:525px; width:100%;\"></div>\n",
              "            <script type=\"text/javascript\">\n",
              "                \n",
              "                    window.PLOTLYENV=window.PLOTLYENV || {};\n",
              "                    \n",
              "                if (document.getElementById(\"cdc74173-c95f-4ae5-b423-01f49b1a08e2\")) {\n",
              "                    Plotly.newPlot(\n",
              "                        'cdc74173-c95f-4ae5-b423-01f49b1a08e2',\n",
              "                        [{\"hoverlabel\": {\"namelength\": 0}, \"hovertemplate\": \"x=%{x}<br>y=%{y}\", \"legendgroup\": \"\", \"marker\": {\"color\": \"#636efa\", \"symbol\": \"circle\"}, \"mode\": \"markers\", \"name\": \"\", \"showlegend\": false, \"type\": \"scatter\", \"x\": [29.7, 24.1, 19.5, 49.4, 54.1, 48.6, 30.8, 10.8, 20.2, 20.4, 17.3, 50.3, 34.2, 33.7, 45.7, 22.3, 48.1, 19.4, 71.9, 45.1, 31.3, 24.9, 27.2, 17.7, 29.0, 21.4, 28.6, 29.3, 17.5, 16.5, 17.8, 17.3, 31.2, 14.5, 15.7, 28.6, 20.8, 29.3, 19.3, 39.5, 13.0, 24.1, 38.0, 40.1, 36.1, 26.6, 25.1, 14.6, 18.2, 15.3, 15.2, 17.4, 73.3, 7.1, 12.5, 45.8, 44.9, 65.0, 49.9, 54.8, 53.5, 69.9, 24.6, 58.6, 53.2, 17.4, 15.5, 14.5, 24.1, 21.2, 9.8, 29.9, 7.2, 19.4, 41.1, 11.2, 21.2, 42.8, 9.4, 61.7, 19.4, 6.6, 15.9, 18.8, 13.2, 34.5, 22.1, 22.1, 71.9, 31.9, 44.6, 28.6, 24.0, 13.8, 29.9, 9.9, 22.6, 13.0], \"xaxis\": \"x\", \"y\": [140463, 113033, 124186, 110490, 79124, 92634, 89246, 195145, 297342, 264298, 134342, 147600, 77370, 170822, 40642, 71359, 104923, 190317, 215512, 178105, 131025, 149844, 170556, 280969, 114233, 74502, 475112, 97167, 114572, 436348, 389302, 122392, 130436, 272790, 194435, 299621, 210884, 112471, 93738, 121024, 156035, 185404, 126160, 143072, 96769, 94014, 118214, 157446, 150283, 153842, 197214, 206127, 71981, 169401, 99843, 60000, 28000, 60000, 61800, 38000, 38000, 42000, 103087, 147720, 78175, 92215, 271804, 119566, 100231, 95831, 229711, 74308, 259506, 159573, 147176, 205732, 215783, 116710, 359112, 189959, 133198, 242821, 142811, 200498, 199065, 93648, 163001, 436348, 124478, 168276, 114157, 130088, 152624, 174232, 196515, 232714, 245920, 130953], \"yaxis\": \"y\"}],\n",
              "                        {\"legend\": {\"tracegroupgap\": 0}, \"margin\": {\"t\": 60}, \"template\": {\"data\": {\"bar\": [{\"error_x\": {\"color\": \"#2a3f5f\"}, \"error_y\": {\"color\": \"#2a3f5f\"}, \"marker\": {\"line\": {\"color\": \"#E5ECF6\", \"width\": 0.5}}, \"type\": \"bar\"}], \"barpolar\": [{\"marker\": {\"line\": {\"color\": \"#E5ECF6\", \"width\": 0.5}}, \"type\": \"barpolar\"}], \"carpet\": [{\"aaxis\": {\"endlinecolor\": \"#2a3f5f\", \"gridcolor\": \"white\", \"linecolor\": \"white\", \"minorgridcolor\": \"white\", \"startlinecolor\": \"#2a3f5f\"}, \"baxis\": {\"endlinecolor\": \"#2a3f5f\", \"gridcolor\": \"white\", \"linecolor\": \"white\", \"minorgridcolor\": \"white\", \"startlinecolor\": \"#2a3f5f\"}, \"type\": \"carpet\"}], \"choropleth\": [{\"colorbar\": {\"outlinewidth\": 0, \"ticks\": \"\"}, \"type\": \"choropleth\"}], \"contour\": [{\"colorbar\": {\"outlinewidth\": 0, \"ticks\": \"\"}, \"colorscale\": [[0.0, \"#0d0887\"], [0.1111111111111111, \"#46039f\"], [0.2222222222222222, \"#7201a8\"], [0.3333333333333333, \"#9c179e\"], [0.4444444444444444, \"#bd3786\"], [0.5555555555555556, \"#d8576b\"], [0.6666666666666666, \"#ed7953\"], [0.7777777777777778, \"#fb9f3a\"], [0.8888888888888888, \"#fdca26\"], [1.0, \"#f0f921\"]], \"type\": \"contour\"}], \"contourcarpet\": [{\"colorbar\": {\"outlinewidth\": 0, \"ticks\": \"\"}, \"type\": \"contourcarpet\"}], \"heatmap\": [{\"colorbar\": {\"outlinewidth\": 0, \"ticks\": \"\"}, \"colorscale\": [[0.0, \"#0d0887\"], [0.1111111111111111, \"#46039f\"], [0.2222222222222222, \"#7201a8\"], [0.3333333333333333, \"#9c179e\"], [0.4444444444444444, \"#bd3786\"], [0.5555555555555556, \"#d8576b\"], [0.6666666666666666, \"#ed7953\"], [0.7777777777777778, \"#fb9f3a\"], [0.8888888888888888, \"#fdca26\"], [1.0, \"#f0f921\"]], \"type\": \"heatmap\"}], \"heatmapgl\": [{\"colorbar\": {\"outlinewidth\": 0, \"ticks\": \"\"}, \"colorscale\": [[0.0, \"#0d0887\"], [0.1111111111111111, \"#46039f\"], [0.2222222222222222, \"#7201a8\"], [0.3333333333333333, \"#9c179e\"], [0.4444444444444444, \"#bd3786\"], [0.5555555555555556, \"#d8576b\"], [0.6666666666666666, \"#ed7953\"], [0.7777777777777778, \"#fb9f3a\"], [0.8888888888888888, \"#fdca26\"], [1.0, \"#f0f921\"]], \"type\": \"heatmapgl\"}], \"histogram\": [{\"marker\": {\"colorbar\": {\"outlinewidth\": 0, \"ticks\": \"\"}}, \"type\": \"histogram\"}], \"histogram2d\": [{\"colorbar\": {\"outlinewidth\": 0, \"ticks\": \"\"}, \"colorscale\": [[0.0, \"#0d0887\"], [0.1111111111111111, \"#46039f\"], [0.2222222222222222, \"#7201a8\"], [0.3333333333333333, \"#9c179e\"], [0.4444444444444444, \"#bd3786\"], [0.5555555555555556, \"#d8576b\"], [0.6666666666666666, \"#ed7953\"], [0.7777777777777778, \"#fb9f3a\"], [0.8888888888888888, \"#fdca26\"], [1.0, \"#f0f921\"]], \"type\": \"histogram2d\"}], \"histogram2dcontour\": [{\"colorbar\": {\"outlinewidth\": 0, \"ticks\": \"\"}, \"colorscale\": [[0.0, \"#0d0887\"], [0.1111111111111111, \"#46039f\"], [0.2222222222222222, \"#7201a8\"], [0.3333333333333333, \"#9c179e\"], [0.4444444444444444, \"#bd3786\"], [0.5555555555555556, \"#d8576b\"], [0.6666666666666666, \"#ed7953\"], [0.7777777777777778, \"#fb9f3a\"], [0.8888888888888888, \"#fdca26\"], [1.0, \"#f0f921\"]], \"type\": \"histogram2dcontour\"}], \"mesh3d\": [{\"colorbar\": {\"outlinewidth\": 0, \"ticks\": \"\"}, \"type\": \"mesh3d\"}], \"parcoords\": [{\"line\": {\"colorbar\": {\"outlinewidth\": 0, \"ticks\": \"\"}}, \"type\": \"parcoords\"}], \"pie\": [{\"automargin\": true, \"type\": \"pie\"}], \"scatter\": [{\"marker\": {\"colorbar\": {\"outlinewidth\": 0, \"ticks\": \"\"}}, \"type\": \"scatter\"}], \"scatter3d\": [{\"line\": {\"colorbar\": {\"outlinewidth\": 0, \"ticks\": \"\"}}, \"marker\": {\"colorbar\": {\"outlinewidth\": 0, \"ticks\": \"\"}}, \"type\": \"scatter3d\"}], \"scattercarpet\": [{\"marker\": {\"colorbar\": {\"outlinewidth\": 0, \"ticks\": \"\"}}, \"type\": \"scattercarpet\"}], \"scattergeo\": [{\"marker\": {\"colorbar\": {\"outlinewidth\": 0, \"ticks\": \"\"}}, \"type\": \"scattergeo\"}], \"scattergl\": [{\"marker\": {\"colorbar\": {\"outlinewidth\": 0, \"ticks\": \"\"}}, \"type\": \"scattergl\"}], \"scattermapbox\": [{\"marker\": {\"colorbar\": {\"outlinewidth\": 0, \"ticks\": \"\"}}, \"type\": \"scattermapbox\"}], \"scatterpolar\": [{\"marker\": {\"colorbar\": {\"outlinewidth\": 0, \"ticks\": \"\"}}, \"type\": \"scatterpolar\"}], \"scatterpolargl\": [{\"marker\": {\"colorbar\": {\"outlinewidth\": 0, \"ticks\": \"\"}}, \"type\": \"scatterpolargl\"}], \"scatterternary\": [{\"marker\": {\"colorbar\": {\"outlinewidth\": 0, \"ticks\": \"\"}}, \"type\": \"scatterternary\"}], \"surface\": [{\"colorbar\": {\"outlinewidth\": 0, \"ticks\": \"\"}, \"colorscale\": [[0.0, \"#0d0887\"], [0.1111111111111111, \"#46039f\"], [0.2222222222222222, \"#7201a8\"], [0.3333333333333333, \"#9c179e\"], [0.4444444444444444, \"#bd3786\"], [0.5555555555555556, \"#d8576b\"], [0.6666666666666666, \"#ed7953\"], [0.7777777777777778, \"#fb9f3a\"], [0.8888888888888888, \"#fdca26\"], [1.0, \"#f0f921\"]], \"type\": \"surface\"}], \"table\": [{\"cells\": {\"fill\": {\"color\": \"#EBF0F8\"}, \"line\": {\"color\": \"white\"}}, \"header\": {\"fill\": {\"color\": \"#C8D4E3\"}, \"line\": {\"color\": \"white\"}}, \"type\": \"table\"}]}, \"layout\": {\"annotationdefaults\": {\"arrowcolor\": \"#2a3f5f\", \"arrowhead\": 0, \"arrowwidth\": 1}, \"coloraxis\": {\"colorbar\": {\"outlinewidth\": 0, \"ticks\": \"\"}}, \"colorscale\": {\"diverging\": [[0, \"#8e0152\"], [0.1, \"#c51b7d\"], [0.2, \"#de77ae\"], [0.3, \"#f1b6da\"], [0.4, \"#fde0ef\"], [0.5, \"#f7f7f7\"], [0.6, \"#e6f5d0\"], [0.7, \"#b8e186\"], [0.8, \"#7fbc41\"], [0.9, \"#4d9221\"], [1, \"#276419\"]], \"sequential\": [[0.0, \"#0d0887\"], [0.1111111111111111, \"#46039f\"], [0.2222222222222222, \"#7201a8\"], [0.3333333333333333, \"#9c179e\"], [0.4444444444444444, \"#bd3786\"], [0.5555555555555556, \"#d8576b\"], [0.6666666666666666, \"#ed7953\"], [0.7777777777777778, \"#fb9f3a\"], [0.8888888888888888, \"#fdca26\"], [1.0, \"#f0f921\"]], \"sequentialminus\": [[0.0, \"#0d0887\"], [0.1111111111111111, \"#46039f\"], [0.2222222222222222, \"#7201a8\"], [0.3333333333333333, \"#9c179e\"], [0.4444444444444444, \"#bd3786\"], [0.5555555555555556, \"#d8576b\"], [0.6666666666666666, \"#ed7953\"], [0.7777777777777778, \"#fb9f3a\"], [0.8888888888888888, \"#fdca26\"], [1.0, \"#f0f921\"]]}, \"colorway\": [\"#636efa\", \"#EF553B\", \"#00cc96\", \"#ab63fa\", \"#FFA15A\", \"#19d3f3\", \"#FF6692\", \"#B6E880\", \"#FF97FF\", \"#FECB52\"], \"font\": {\"color\": \"#2a3f5f\"}, \"geo\": {\"bgcolor\": \"white\", \"lakecolor\": \"white\", \"landcolor\": \"#E5ECF6\", \"showlakes\": true, \"showland\": true, \"subunitcolor\": \"white\"}, \"hoverlabel\": {\"align\": \"left\"}, \"hovermode\": \"closest\", \"mapbox\": {\"style\": \"light\"}, \"paper_bgcolor\": \"white\", \"plot_bgcolor\": \"#E5ECF6\", \"polar\": {\"angularaxis\": {\"gridcolor\": \"white\", \"linecolor\": \"white\", \"ticks\": \"\"}, \"bgcolor\": \"#E5ECF6\", \"radialaxis\": {\"gridcolor\": \"white\", \"linecolor\": \"white\", \"ticks\": \"\"}}, \"scene\": {\"xaxis\": {\"backgroundcolor\": \"#E5ECF6\", \"gridcolor\": \"white\", \"gridwidth\": 2, \"linecolor\": \"white\", \"showbackground\": true, \"ticks\": \"\", \"zerolinecolor\": \"white\"}, \"yaxis\": {\"backgroundcolor\": \"#E5ECF6\", \"gridcolor\": \"white\", \"gridwidth\": 2, \"linecolor\": \"white\", \"showbackground\": true, \"ticks\": \"\", \"zerolinecolor\": \"white\"}, \"zaxis\": {\"backgroundcolor\": \"#E5ECF6\", \"gridcolor\": \"white\", \"gridwidth\": 2, \"linecolor\": \"white\", \"showbackground\": true, \"ticks\": \"\", \"zerolinecolor\": \"white\"}}, \"shapedefaults\": {\"line\": {\"color\": \"#2a3f5f\"}}, \"ternary\": {\"aaxis\": {\"gridcolor\": \"white\", \"linecolor\": \"white\", \"ticks\": \"\"}, \"baxis\": {\"gridcolor\": \"white\", \"linecolor\": \"white\", \"ticks\": \"\"}, \"bgcolor\": \"#E5ECF6\", \"caxis\": {\"gridcolor\": \"white\", \"linecolor\": \"white\", \"ticks\": \"\"}}, \"title\": {\"x\": 0.05}, \"xaxis\": {\"automargin\": true, \"gridcolor\": \"white\", \"linecolor\": \"white\", \"ticks\": \"\", \"title\": {\"standoff\": 15}, \"zerolinecolor\": \"white\", \"zerolinewidth\": 2}, \"yaxis\": {\"automargin\": true, \"gridcolor\": \"white\", \"linecolor\": \"white\", \"ticks\": \"\", \"title\": {\"standoff\": 15}, \"zerolinecolor\": \"white\", \"zerolinewidth\": 2}}}, \"xaxis\": {\"anchor\": \"y\", \"domain\": [0.0, 1.0], \"title\": {\"text\": \"x\"}}, \"yaxis\": {\"anchor\": \"x\", \"domain\": [0.0, 1.0], \"title\": {\"text\": \"y\"}}},\n",
              "                        {\"responsive\": true}\n",
              "                    ).then(function(){\n",
              "                            \n",
              "var gd = document.getElementById('cdc74173-c95f-4ae5-b423-01f49b1a08e2');\n",
              "var x = new MutationObserver(function (mutations, observer) {{\n",
              "        var display = window.getComputedStyle(gd).display;\n",
              "        if (!display || display === 'none') {{\n",
              "            console.log([gd, 'removed!']);\n",
              "            Plotly.purge(gd);\n",
              "            observer.disconnect();\n",
              "        }}\n",
              "}});\n",
              "\n",
              "// Listen for the removal of the full notebook cells\n",
              "var notebookContainer = gd.closest('#notebook-container');\n",
              "if (notebookContainer) {{\n",
              "    x.observe(notebookContainer, {childList: true});\n",
              "}}\n",
              "\n",
              "// Listen for the clearing of the current output cell\n",
              "var outputEl = gd.closest('.output');\n",
              "if (outputEl) {{\n",
              "    x.observe(outputEl, {childList: true});\n",
              "}}\n",
              "\n",
              "                        })\n",
              "                };\n",
              "                \n",
              "            </script>\n",
              "        </div>\n",
              "</body>\n",
              "</html>"
            ]
          },
          "metadata": {}
        }
      ]
    },
    {
      "cell_type": "markdown",
      "metadata": {
        "id": "1wT_ms4EWUZ2"
      },
      "source": [
        "### Refit our simple regression model on this modified dataset:"
      ]
    },
    {
      "cell_type": "code",
      "metadata": {
        "id": "hCjK1MVvcNYW"
      },
      "source": [
        "df_sales_noCC=pd.DataFrame(sales_noCC)"
      ],
      "execution_count": 44,
      "outputs": []
    },
    {
      "cell_type": "code",
      "metadata": {
        "id": "eZ87sT-zRJ6b"
      },
      "source": [
        "dfx=df_sales_noCC['CrimeRate'].values.reshape(-1, 1)\n",
        "dfy=df_sales_noCC['HousePrice'].values.reshape(-1, 1)"
      ],
      "execution_count": 45,
      "outputs": []
    },
    {
      "cell_type": "code",
      "metadata": {
        "id": "k21V1v7yQcGg"
      },
      "source": [
        "crime_model_noCC = LinearRegression().fit(dfx,dfy)"
      ],
      "execution_count": 46,
      "outputs": []
    },
    {
      "cell_type": "code",
      "metadata": {
        "id": "qIA4lL5QcaXL"
      },
      "source": [
        "#crime_model_noCC = LinearRegression().fit(df_sales_noCC['CrimeRate'].values.reshape(-1, 1),df_sales_noCC['HousePrice'].values.reshape(-1, 1))"
      ],
      "execution_count": null,
      "outputs": []
    },
    {
      "cell_type": "code",
      "metadata": {
        "id": "CDLcsQk-WUZ3"
      },
      "source": [
        "#crime_model_noCC = turicreate.linear_regression.create(\n",
        "#    sales_noCC,\n",
        "#    target='HousePrice',\n",
        "#    features=['CrimeRate'],\n",
        "#    validation_set = None,\n",
        "#    verbose = False\n",
        ")"
      ],
      "execution_count": null,
      "outputs": []
    },
    {
      "cell_type": "markdown",
      "metadata": {
        "id": "qlGkz0JtWUZ3"
      },
      "source": [
        "### Look at the fit:"
      ]
    },
    {
      "cell_type": "code",
      "metadata": {
        "id": "C-AlCHi4dda4",
        "colab": {
          "base_uri": "https://localhost:8080/",
          "height": 300
        },
        "outputId": "84ad9aca-2f9a-4ae6-fa26-b0f53edcb909"
      },
      "source": [
        "plt.plot(sales_noCC['CrimeRate'],sales_noCC['HousePrice'],'.',\n",
        "       dfx,crime_model_noCC.predict(dfx),'--')"
      ],
      "execution_count": 47,
      "outputs": [
        {
          "output_type": "execute_result",
          "data": {
            "text/plain": [
              "[<matplotlib.lines.Line2D at 0x7ff56cfbc550>,\n",
              " <matplotlib.lines.Line2D at 0x7ff56cfbc6d0>]"
            ]
          },
          "metadata": {},
          "execution_count": 47
        },
        {
          "output_type": "display_data",
          "data": {
            "image/png": "[encoded data removed]",
            "text/plain": [
              "<Figure size 432x288 with 1 Axes>"
            ]
          },
          "metadata": {
            "needs_background": "light"
          }
        }
      ]
    },
    {
      "cell_type": "code",
      "metadata": {
        "colab": {
          "base_uri": "https://localhost:8080/",
          "height": 542
        },
        "id": "x9iQsYjOR7It",
        "outputId": "1055aa23-312d-447a-9c75-60c9d1924f33"
      },
      "source": [
        "fig = px.scatter(x=sales_noCC[\"CrimeRate\"], y=sales_noCC[\"HousePrice\"],trendline=\"ols\")\n",
        "fig.show()"
      ],
      "execution_count": 49,
      "outputs": [
        {
          "output_type": "display_data",
          "data": {
            "text/html": [
              "<html>\n",
              "<head><meta charset=\"utf-8\" /></head>\n",
              "<body>\n",
              "    <div>\n",
              "            <script src=\"https://cdnjs.cloudflare.com/ajax/libs/mathjax/2.7.5/MathJax.js?config=TeX-AMS-MML_SVG\"></script><script type=\"text/javascript\">if (window.MathJax) {MathJax.Hub.Config({SVG: {font: \"STIX-Web\"}});}</script>\n",
              "                <script type=\"text/javascript\">window.PlotlyConfig = {MathJaxConfig: 'local'};</script>\n",
              "        <script src=\"https://cdn.plot.ly/plotly-latest.min.js\"></script>    \n",
              "            <div id=\"8ec26b8c-38a3-4bb6-82e0-9767d8fa368b\" class=\"plotly-graph-div\" style=\"height:525px; width:100%;\"></div>\n",
              "            <script type=\"text/javascript\">\n",
              "                \n",
              "                    window.PLOTLYENV=window.PLOTLYENV || {};\n",
              "                    \n",
              "                if (document.getElementById(\"8ec26b8c-38a3-4bb6-82e0-9767d8fa368b\")) {\n",
              "                    Plotly.newPlot(\n",
              "                        '8ec26b8c-38a3-4bb6-82e0-9767d8fa368b',\n",
              "                        [{\"hoverlabel\": {\"namelength\": 0}, \"hovertemplate\": \"x=%{x}<br>y=%{y}\", \"legendgroup\": \"\", \"marker\": {\"color\": \"#636efa\", \"symbol\": \"circle\"}, \"mode\": \"markers\", \"name\": \"\", \"showlegend\": false, \"type\": \"scatter\", \"x\": [29.7, 24.1, 19.5, 49.4, 54.1, 48.6, 30.8, 10.8, 20.2, 20.4, 17.3, 50.3, 34.2, 33.7, 45.7, 22.3, 48.1, 19.4, 71.9, 45.1, 31.3, 24.9, 27.2, 17.7, 29.0, 21.4, 28.6, 29.3, 17.5, 16.5, 17.8, 17.3, 31.2, 14.5, 15.7, 28.6, 20.8, 29.3, 19.3, 39.5, 13.0, 24.1, 38.0, 40.1, 36.1, 26.6, 25.1, 14.6, 18.2, 15.3, 15.2, 17.4, 73.3, 7.1, 12.5, 45.8, 44.9, 65.0, 49.9, 54.8, 53.5, 69.9, 24.6, 58.6, 53.2, 17.4, 15.5, 14.5, 24.1, 21.2, 9.8, 29.9, 7.2, 19.4, 41.1, 11.2, 21.2, 42.8, 9.4, 61.7, 19.4, 6.6, 15.9, 18.8, 13.2, 34.5, 22.1, 22.1, 71.9, 31.9, 44.6, 28.6, 24.0, 13.8, 29.9, 9.9, 22.6, 13.0], \"xaxis\": \"x\", \"y\": [140463, 113033, 124186, 110490, 79124, 92634, 89246, 195145, 297342, 264298, 134342, 147600, 77370, 170822, 40642, 71359, 104923, 190317, 215512, 178105, 131025, 149844, 170556, 280969, 114233, 74502, 475112, 97167, 114572, 436348, 389302, 122392, 130436, 272790, 194435, 299621, 210884, 112471, 93738, 121024, 156035, 185404, 126160, 143072, 96769, 94014, 118214, 157446, 150283, 153842, 197214, 206127, 71981, 169401, 99843, 60000, 28000, 60000, 61800, 38000, 38000, 42000, 103087, 147720, 78175, 92215, 271804, 119566, 100231, 95831, 229711, 74308, 259506, 159573, 147176, 205732, 215783, 116710, 359112, 189959, 133198, 242821, 142811, 200498, 199065, 93648, 163001, 436348, 124478, 168276, 114157, 130088, 152624, 174232, 196515, 232714, 245920, 130953], \"yaxis\": \"y\"}, {\"hoverlabel\": {\"namelength\": 0}, \"hovertemplate\": \"<b>OLS trendline</b><br>y = -2288.689430 * x + 225233.551839<br>R<sup>2</sup>=0.184229<br><br>x=%{x}<br>y=%{y} <b>(trend)</b>\", \"legendgroup\": \"\", \"marker\": {\"color\": \"#636efa\", \"symbol\": \"circle\"}, \"mode\": \"lines\", \"name\": \"\", \"showlegend\": false, \"type\": \"scatter\", \"x\": [6.6, 7.1, 7.2, 9.4, 9.8, 9.9, 10.8, 11.2, 12.5, 13.0, 13.0, 13.2, 13.8, 14.5, 14.5, 14.6, 15.2, 15.3, 15.5, 15.7, 15.9, 16.5, 17.3, 17.3, 17.4, 17.4, 17.5, 17.7, 17.8, 18.2, 18.8, 19.3, 19.4, 19.4, 19.4, 19.5, 20.2, 20.4, 20.8, 21.2, 21.2, 21.4, 22.1, 22.1, 22.3, 22.6, 24.0, 24.1, 24.1, 24.1, 24.6, 24.9, 25.1, 26.6, 27.2, 28.6, 28.6, 28.6, 29.0, 29.3, 29.3, 29.7, 29.9, 29.9, 30.8, 31.2, 31.3, 31.9, 33.7, 34.2, 34.5, 36.1, 38.0, 39.5, 40.1, 41.1, 42.8, 44.6, 44.9, 45.1, 45.7, 45.8, 48.1, 48.6, 49.4, 49.9, 50.3, 53.2, 53.5, 54.1, 54.8, 58.6, 61.7, 65.0, 69.9, 71.9, 71.9, 73.3], \"xaxis\": \"x\", \"y\": [210128.2016013446, 208983.85688637043, 208754.9879433756, 203719.87119748918, 202804.39542550984, 202575.526482515, 200515.70599556147, 199600.23022358213, 196624.93396464927, 195480.58924967507, 195480.58924967507, 195022.8513636854, 193649.6377057164, 192047.55510475254, 192047.55510475254, 191818.68616175768, 190445.47250378868, 190216.60356079385, 189758.86567480417, 189301.12778881448, 188843.38990282483, 187470.1762448558, 185639.22470089712, 185639.22470089712, 185410.3557579023, 185410.3557579023, 185181.48681490743, 184723.74892891778, 184494.87998592292, 183579.40421394358, 182206.19055597455, 181061.84584100038, 180832.97689800555, 180832.97689800555, 180832.97689800555, 180604.10795501072, 179002.02535404684, 178544.28746805718, 177628.81169607784, 176713.3359240985, 176713.3359240985, 176255.59803810882, 174653.51543714496, 174653.51543714496, 174195.7775511553, 173509.1707221708, 170305.00552024308, 170076.13657724822, 170076.13657724822, 170076.13657724822, 168931.79186227405, 168245.18503328954, 167787.44714729988, 164354.41300237732, 162981.19934440832, 159777.03414248058, 159777.03414248058, 159777.03414248058, 158861.55837050127, 158174.95154151676, 158174.95154151676, 157259.47576953738, 156801.73788354773, 156801.73788354773, 154741.9173965942, 153826.44162461488, 153597.57268162002, 152224.359023651, 148104.71804974394, 146960.37333476974, 146273.76650578526, 142611.86341786786, 138263.35350096598, 134830.31935604342, 133457.10569807442, 131168.41626812605, 127277.64423721384, 123158.00326330677, 122471.39643432228, 122013.65854833259, 120640.44489036358, 120411.57594736875, 115147.5902584875, 114003.24554351332, 112172.29399955463, 111027.94928458045, 110112.47351260111, 103475.27416575084, 102788.66733676635, 101415.45367879732, 99813.37107783348, 91116.35124402968, 84021.41401118974, 76468.73889236015, 65254.16068561317, 60676.78182571643, 60676.78182571643, 57472.61662378875], \"yaxis\": \"y\"}],\n",
              "                        {\"legend\": {\"tracegroupgap\": 0}, \"margin\": {\"t\": 60}, \"template\": {\"data\": {\"bar\": [{\"error_x\": {\"color\": \"#2a3f5f\"}, \"error_y\": {\"color\": \"#2a3f5f\"}, \"marker\": {\"line\": {\"color\": \"#E5ECF6\", \"width\": 0.5}}, \"type\": \"bar\"}], \"barpolar\": [{\"marker\": {\"line\": {\"color\": \"#E5ECF6\", \"width\": 0.5}}, \"type\": \"barpolar\"}], \"carpet\": [{\"aaxis\": {\"endlinecolor\": \"#2a3f5f\", \"gridcolor\": \"white\", \"linecolor\": \"white\", \"minorgridcolor\": \"white\", \"startlinecolor\": \"#2a3f5f\"}, \"baxis\": {\"endlinecolor\": \"#2a3f5f\", \"gridcolor\": \"white\", \"linecolor\": \"white\", \"minorgridcolor\": \"white\", \"startlinecolor\": \"#2a3f5f\"}, \"type\": \"carpet\"}], \"choropleth\": [{\"colorbar\": {\"outlinewidth\": 0, \"ticks\": \"\"}, \"type\": \"choropleth\"}], \"contour\": [{\"colorbar\": {\"outlinewidth\": 0, \"ticks\": \"\"}, \"colorscale\": [[0.0, \"#0d0887\"], [0.1111111111111111, \"#46039f\"], [0.2222222222222222, \"#7201a8\"], [0.3333333333333333, \"#9c179e\"], [0.4444444444444444, \"#bd3786\"], [0.5555555555555556, \"#d8576b\"], [0.6666666666666666, \"#ed7953\"], [0.7777777777777778, \"#fb9f3a\"], [0.8888888888888888, \"#fdca26\"], [1.0, \"#f0f921\"]], \"type\": \"contour\"}], \"contourcarpet\": [{\"colorbar\": {\"outlinewidth\": 0, \"ticks\": \"\"}, \"type\": \"contourcarpet\"}], \"heatmap\": [{\"colorbar\": {\"outlinewidth\": 0, \"ticks\": \"\"}, \"colorscale\": [[0.0, \"#0d0887\"], [0.1111111111111111, \"#46039f\"], [0.2222222222222222, \"#7201a8\"], [0.3333333333333333, \"#9c179e\"], [0.4444444444444444, \"#bd3786\"], [0.5555555555555556, \"#d8576b\"], [0.6666666666666666, \"#ed7953\"], [0.7777777777777778, \"#fb9f3a\"], [0.8888888888888888, \"#fdca26\"], [1.0, \"#f0f921\"]], \"type\": \"heatmap\"}], \"heatmapgl\": [{\"colorbar\": {\"outlinewidth\": 0, \"ticks\": \"\"}, \"colorscale\": [[0.0, \"#0d0887\"], [0.1111111111111111, \"#46039f\"], [0.2222222222222222, \"#7201a8\"], [0.3333333333333333, \"#9c179e\"], [0.4444444444444444, \"#bd3786\"], [0.5555555555555556, \"#d8576b\"], [0.6666666666666666, \"#ed7953\"], [0.7777777777777778, \"#fb9f3a\"], [0.8888888888888888, \"#fdca26\"], [1.0, \"#f0f921\"]], \"type\": \"heatmapgl\"}], \"histogram\": [{\"marker\": {\"colorbar\": {\"outlinewidth\": 0, \"ticks\": \"\"}}, \"type\": \"histogram\"}], \"histogram2d\": [{\"colorbar\": {\"outlinewidth\": 0, \"ticks\": \"\"}, \"colorscale\": [[0.0, \"#0d0887\"], [0.1111111111111111, \"#46039f\"], [0.2222222222222222, \"#7201a8\"], [0.3333333333333333, \"#9c179e\"], [0.4444444444444444, \"#bd3786\"], [0.5555555555555556, \"#d8576b\"], [0.6666666666666666, \"#ed7953\"], [0.7777777777777778, \"#fb9f3a\"], [0.8888888888888888, \"#fdca26\"], [1.0, \"#f0f921\"]], \"type\": \"histogram2d\"}], \"histogram2dcontour\": [{\"colorbar\": {\"outlinewidth\": 0, \"ticks\": \"\"}, \"colorscale\": [[0.0, \"#0d0887\"], [0.1111111111111111, \"#46039f\"], [0.2222222222222222, \"#7201a8\"], [0.3333333333333333, \"#9c179e\"], [0.4444444444444444, \"#bd3786\"], [0.5555555555555556, \"#d8576b\"], [0.6666666666666666, \"#ed7953\"], [0.7777777777777778, \"#fb9f3a\"], [0.8888888888888888, \"#fdca26\"], [1.0, \"#f0f921\"]], \"type\": \"histogram2dcontour\"}], \"mesh3d\": [{\"colorbar\": {\"outlinewidth\": 0, \"ticks\": \"\"}, \"type\": \"mesh3d\"}], \"parcoords\": [{\"line\": {\"colorbar\": {\"outlinewidth\": 0, \"ticks\": \"\"}}, \"type\": \"parcoords\"}], \"pie\": [{\"automargin\": true, \"type\": \"pie\"}], \"scatter\": [{\"marker\": {\"colorbar\": {\"outlinewidth\": 0, \"ticks\": \"\"}}, \"type\": \"scatter\"}], \"scatter3d\": [{\"line\": {\"colorbar\": {\"outlinewidth\": 0, \"ticks\": \"\"}}, \"marker\": {\"colorbar\": {\"outlinewidth\": 0, \"ticks\": \"\"}}, \"type\": \"scatter3d\"}], \"scattercarpet\": [{\"marker\": {\"colorbar\": {\"outlinewidth\": 0, \"ticks\": \"\"}}, \"type\": \"scattercarpet\"}], \"scattergeo\": [{\"marker\": {\"colorbar\": {\"outlinewidth\": 0, \"ticks\": \"\"}}, \"type\": \"scattergeo\"}], \"scattergl\": [{\"marker\": {\"colorbar\": {\"outlinewidth\": 0, \"ticks\": \"\"}}, \"type\": \"scattergl\"}], \"scattermapbox\": [{\"marker\": {\"colorbar\": {\"outlinewidth\": 0, \"ticks\": \"\"}}, \"type\": \"scattermapbox\"}], \"scatterpolar\": [{\"marker\": {\"colorbar\": {\"outlinewidth\": 0, \"ticks\": \"\"}}, \"type\": \"scatterpolar\"}], \"scatterpolargl\": [{\"marker\": {\"colorbar\": {\"outlinewidth\": 0, \"ticks\": \"\"}}, \"type\": \"scatterpolargl\"}], \"scatterternary\": [{\"marker\": {\"colorbar\": {\"outlinewidth\": 0, \"ticks\": \"\"}}, \"type\": \"scatterternary\"}], \"surface\": [{\"colorbar\": {\"outlinewidth\": 0, \"ticks\": \"\"}, \"colorscale\": [[0.0, \"#0d0887\"], [0.1111111111111111, \"#46039f\"], [0.2222222222222222, \"#7201a8\"], [0.3333333333333333, \"#9c179e\"], [0.4444444444444444, \"#bd3786\"], [0.5555555555555556, \"#d8576b\"], [0.6666666666666666, \"#ed7953\"], [0.7777777777777778, \"#fb9f3a\"], [0.8888888888888888, \"#fdca26\"], [1.0, \"#f0f921\"]], \"type\": \"surface\"}], \"table\": [{\"cells\": {\"fill\": {\"color\": \"#EBF0F8\"}, \"line\": {\"color\": \"white\"}}, \"header\": {\"fill\": {\"color\": \"#C8D4E3\"}, \"line\": {\"color\": \"white\"}}, \"type\": \"table\"}]}, \"layout\": {\"annotationdefaults\": {\"arrowcolor\": \"#2a3f5f\", \"arrowhead\": 0, \"arrowwidth\": 1}, \"coloraxis\": {\"colorbar\": {\"outlinewidth\": 0, \"ticks\": \"\"}}, \"colorscale\": {\"diverging\": [[0, \"#8e0152\"], [0.1, \"#c51b7d\"], [0.2, \"#de77ae\"], [0.3, \"#f1b6da\"], [0.4, \"#fde0ef\"], [0.5, \"#f7f7f7\"], [0.6, \"#e6f5d0\"], [0.7, \"#b8e186\"], [0.8, \"#7fbc41\"], [0.9, \"#4d9221\"], [1, \"#276419\"]], \"sequential\": [[0.0, \"#0d0887\"], [0.1111111111111111, \"#46039f\"], [0.2222222222222222, \"#7201a8\"], [0.3333333333333333, \"#9c179e\"], [0.4444444444444444, \"#bd3786\"], [0.5555555555555556, \"#d8576b\"], [0.6666666666666666, \"#ed7953\"], [0.7777777777777778, \"#fb9f3a\"], [0.8888888888888888, \"#fdca26\"], [1.0, \"#f0f921\"]], \"sequentialminus\": [[0.0, \"#0d0887\"], [0.1111111111111111, \"#46039f\"], [0.2222222222222222, \"#7201a8\"], [0.3333333333333333, \"#9c179e\"], [0.4444444444444444, \"#bd3786\"], [0.5555555555555556, \"#d8576b\"], [0.6666666666666666, \"#ed7953\"], [0.7777777777777778, \"#fb9f3a\"], [0.8888888888888888, \"#fdca26\"], [1.0, \"#f0f921\"]]}, \"colorway\": [\"#636efa\", \"#EF553B\", \"#00cc96\", \"#ab63fa\", \"#FFA15A\", \"#19d3f3\", \"#FF6692\", \"#B6E880\", \"#FF97FF\", \"#FECB52\"], \"font\": {\"color\": \"#2a3f5f\"}, \"geo\": {\"bgcolor\": \"white\", \"lakecolor\": \"white\", \"landcolor\": \"#E5ECF6\", \"showlakes\": true, \"showland\": true, \"subunitcolor\": \"white\"}, \"hoverlabel\": {\"align\": \"left\"}, \"hovermode\": \"closest\", \"mapbox\": {\"style\": \"light\"}, \"paper_bgcolor\": \"white\", \"plot_bgcolor\": \"#E5ECF6\", \"polar\": {\"angularaxis\": {\"gridcolor\": \"white\", \"linecolor\": \"white\", \"ticks\": \"\"}, \"bgcolor\": \"#E5ECF6\", \"radialaxis\": {\"gridcolor\": \"white\", \"linecolor\": \"white\", \"ticks\": \"\"}}, \"scene\": {\"xaxis\": {\"backgroundcolor\": \"#E5ECF6\", \"gridcolor\": \"white\", \"gridwidth\": 2, \"linecolor\": \"white\", \"showbackground\": true, \"ticks\": \"\", \"zerolinecolor\": \"white\"}, \"yaxis\": {\"backgroundcolor\": \"#E5ECF6\", \"gridcolor\": \"white\", \"gridwidth\": 2, \"linecolor\": \"white\", \"showbackground\": true, \"ticks\": \"\", \"zerolinecolor\": \"white\"}, \"zaxis\": {\"backgroundcolor\": \"#E5ECF6\", \"gridcolor\": \"white\", \"gridwidth\": 2, \"linecolor\": \"white\", \"showbackground\": true, \"ticks\": \"\", \"zerolinecolor\": \"white\"}}, \"shapedefaults\": {\"line\": {\"color\": \"#2a3f5f\"}}, \"ternary\": {\"aaxis\": {\"gridcolor\": \"white\", \"linecolor\": \"white\", \"ticks\": \"\"}, \"baxis\": {\"gridcolor\": \"white\", \"linecolor\": \"white\", \"ticks\": \"\"}, \"bgcolor\": \"#E5ECF6\", \"caxis\": {\"gridcolor\": \"white\", \"linecolor\": \"white\", \"ticks\": \"\"}}, \"title\": {\"x\": 0.05}, \"xaxis\": {\"automargin\": true, \"gridcolor\": \"white\", \"linecolor\": \"white\", \"ticks\": \"\", \"title\": {\"standoff\": 15}, \"zerolinecolor\": \"white\", \"zerolinewidth\": 2}, \"yaxis\": {\"automargin\": true, \"gridcolor\": \"white\", \"linecolor\": \"white\", \"ticks\": \"\", \"title\": {\"standoff\": 15}, \"zerolinecolor\": \"white\", \"zerolinewidth\": 2}}}, \"xaxis\": {\"anchor\": \"y\", \"domain\": [0.0, 1.0], \"title\": {\"text\": \"x\"}}, \"yaxis\": {\"anchor\": \"x\", \"domain\": [0.0, 1.0], \"title\": {\"text\": \"y\"}}},\n",
              "                        {\"responsive\": true}\n",
              "                    ).then(function(){\n",
              "                            \n",
              "var gd = document.getElementById('8ec26b8c-38a3-4bb6-82e0-9767d8fa368b');\n",
              "var x = new MutationObserver(function (mutations, observer) {{\n",
              "        var display = window.getComputedStyle(gd).display;\n",
              "        if (!display || display === 'none') {{\n",
              "            console.log([gd, 'removed!']);\n",
              "            Plotly.purge(gd);\n",
              "            observer.disconnect();\n",
              "        }}\n",
              "}});\n",
              "\n",
              "// Listen for the removal of the full notebook cells\n",
              "var notebookContainer = gd.closest('#notebook-container');\n",
              "if (notebookContainer) {{\n",
              "    x.observe(notebookContainer, {childList: true});\n",
              "}}\n",
              "\n",
              "// Listen for the clearing of the current output cell\n",
              "var outputEl = gd.closest('.output');\n",
              "if (outputEl) {{\n",
              "    x.observe(outputEl, {childList: true});\n",
              "}}\n",
              "\n",
              "                        })\n",
              "                };\n",
              "                \n",
              "            </script>\n",
              "        </div>\n",
              "</body>\n",
              "</html>"
            ]
          },
          "metadata": {}
        }
      ]
    },
    {
      "cell_type": "code",
      "metadata": {
        "colab": {
          "base_uri": "https://localhost:8080/",
          "height": 617
        },
        "id": "Tk2duqU1U2hf",
        "outputId": "6027bc84-14aa-45e4-aa5b-6ceb79e8634b"
      },
      "source": [
        "\"\"\"predic=crime_model_noCC.predict(dfx)\n",
        "dfxdf=pd.DataFrame(dfx)\n",
        "\n",
        "import plotly.graph_objects as go\n",
        "from plotly.subplots import make_subplots\n",
        "from plotly.offline import plot, iplot, init_notebook_mode\n",
        "\n",
        "fig = go.Figure()\n",
        "A=go.Scatter(x=sales_noCC[\"CrimeRate\"], y=sales_noCC[\"HousePrice\"],\n",
        "                    mode='markers')\n",
        "B=go.Scatter(x=dfxdf, y=pd.DataFrame(predic),\n",
        "                    mode='lines')\n",
        "#fig.add_trace(A)\n",
        "#fig.add_trace(B)\n",
        "#fig.show()\n",
        "\n",
        "\n",
        "fig = make_subplots(specs=[[{\"secondary_y\": True}]])\n",
        "fig.add_trace(A)\n",
        "fig.add_trace(B,secondary_y=True)\n",
        "fig['layout'].update(height = 600, width = 800, title = \"title\",xaxis=dict(\n",
        "      tickangle=-90\n",
        "    ))\n",
        "iplot(fig)\"\"\""
      ],
      "execution_count": null,
      "outputs": [
        {
          "output_type": "display_data",
          "data": {
            "text/html": [
              "<html>\n",
              "<head><meta charset=\"utf-8\" /></head>\n",
              "<body>\n",
              "    <div>\n",
              "            <script src=\"https://cdnjs.cloudflare.com/ajax/libs/mathjax/2.7.5/MathJax.js?config=TeX-AMS-MML_SVG\"></script><script type=\"text/javascript\">if (window.MathJax) {MathJax.Hub.Config({SVG: {font: \"STIX-Web\"}});}</script>\n",
              "                <script type=\"text/javascript\">window.PlotlyConfig = {MathJaxConfig: 'local'};</script>\n",
              "        <script src=\"https://cdn.plot.ly/plotly-latest.min.js\"></script>    \n",
              "            <div id=\"2b2c894b-5452-4a21-a56b-b461e8686a6b\" class=\"plotly-graph-div\" style=\"height:600px; width:800px;\"></div>\n",
              "            <script type=\"text/javascript\">\n",
              "                \n",
              "                    window.PLOTLYENV=window.PLOTLYENV || {};\n",
              "                    \n",
              "                if (document.getElementById(\"2b2c894b-5452-4a21-a56b-b461e8686a6b\")) {\n",
              "                    Plotly.newPlot(\n",
              "                        '2b2c894b-5452-4a21-a56b-b461e8686a6b',\n",
              "                        [{\"mode\": \"markers\", \"type\": \"scatter\", \"x\": [29.7, 24.1, 19.5, 49.4, 54.1, 48.6, 30.8, 10.8, 20.2, 20.4, 17.3, 50.3, 34.2, 33.7, 45.7, 22.3, 48.1, 19.4, 71.9, 45.1, 31.3, 24.9, 27.2, 17.7, 29.0, 21.4, 28.6, 29.3, 17.5, 16.5, 17.8, 17.3, 31.2, 14.5, 15.7, 28.6, 20.8, 29.3, 19.3, 39.5, 13.0, 24.1, 38.0, 40.1, 36.1, 26.6, 25.1, 14.6, 18.2, 15.3, 15.2, 17.4, 73.3, 7.1, 12.5, 45.8, 44.9, 65.0, 49.9, 54.8, 53.5, 69.9, 24.6, 58.6, 53.2, 17.4, 15.5, 14.5, 24.1, 21.2, 9.8, 29.9, 7.2, 19.4, 41.1, 11.2, 21.2, 42.8, 9.4, 61.7, 19.4, 6.6, 15.9, 18.8, 13.2, 34.5, 22.1, 22.1, 71.9, 31.9, 44.6, 28.6, 24.0, 13.8, 29.9, 9.9, 22.6, 13.0], \"y\": [140463, 113033, 124186, 110490, 79124, 92634, 89246, 195145, 297342, 264298, 134342, 147600, 77370, 170822, 40642, 71359, 104923, 190317, 215512, 178105, 131025, 149844, 170556, 280969, 114233, 74502, 475112, 97167, 114572, 436348, 389302, 122392, 130436, 272790, 194435, 299621, 210884, 112471, 93738, 121024, 156035, 185404, 126160, 143072, 96769, 94014, 118214, 157446, 150283, 153842, 197214, 206127, 71981, 169401, 99843, 60000, 28000, 60000, 61800, 38000, 38000, 42000, 103087, 147720, 78175, 92215, 271804, 119566, 100231, 95831, 229711, 74308, 259506, 159573, 147176, 205732, 215783, 116710, 359112, 189959, 133198, 242821, 142811, 200498, 199065, 93648, 163001, 436348, 124478, 168276, 114157, 130088, 152624, 174232, 196515, 232714, 245920, 130953]}, {\"mode\": \"lines\", \"type\": \"scatter\", \"x\": [[29.7], [24.1], [19.5], [49.4], [54.1], [48.6], [30.8], [10.8], [20.2], [20.4], [17.3], [50.3], [34.2], [33.7], [45.7], [22.3], [48.1], [19.4], [71.9], [45.1], [31.3], [24.9], [27.2], [17.7], [29.0], [21.4], [28.6], [29.3], [17.5], [16.5], [17.8], [17.3], [31.2], [14.5], [15.7], [28.6], [20.8], [29.3], [19.3], [39.5], [13.0], [24.1], [38.0], [40.1], [36.1], [26.6], [25.1], [14.6], [18.2], [15.3], [15.2], [17.4], [73.3], [7.1], [12.5], [45.8], [44.9], [65.0], [49.9], [54.8], [53.5], [69.9], [24.6], [58.6], [53.2], [17.4], [15.5], [14.5], [24.1], [21.2], [9.8], [29.9], [7.2], [19.4], [41.1], [11.2], [21.2], [42.8], [9.4], [61.7], [19.4], [6.6], [15.9], [18.8], [13.2], [34.5], [22.1], [22.1], [71.9], [31.9], [44.6], [28.6], [24.0], [13.8], [29.9], [9.9], [22.6], [13.0]], \"xaxis\": \"x\", \"y\": [[157259.47576953738], [170076.13657724822], [180604.10795501072], [112172.29399955463], [101415.45367879732], [114003.24554351332], [154741.9173965942], [200515.70599556147], [179002.02535404684], [178544.28746805718], [185639.22470089712], [110112.47351260111], [146960.37333476974], [148104.71804974394], [120640.44489036358], [174195.7775511553], [115147.5902584875], [180832.97689800555], [60676.78182571643], [122013.65854833259], [153597.57268162002], [168245.18503328954], [162981.19934440832], [184723.74892891778], [158861.55837050127], [176255.59803810882], [159777.03414248058], [158174.95154151676], [185181.48681490743], [187470.1762448558], [184494.87998592292], [185639.22470089712], [153826.44162461488], [192047.55510475254], [189301.12778881448], [159777.03414248058], [177628.81169607784], [158174.95154151676], [181061.84584100038], [134830.31935604342], [195480.58924967507], [170076.13657724822], [138263.35350096598], [133457.10569807442], [142611.86341786786], [164354.41300237732], [167787.44714729988], [191818.68616175768], [183579.40421394358], [190216.60356079385], [190445.47250378868], [185410.3557579023], [57472.61662378875], [208983.85688637043], [196624.93396464927], [120411.57594736875], [122471.39643432228], [76468.73889236015], [111027.94928458045], [99813.37107783348], [102788.66733676635], [65254.16068561317], [168931.79186227405], [91116.35124402968], [103475.27416575084], [185410.3557579023], [189758.86567480417], [192047.55510475254], [170076.13657724822], [176713.3359240985], [202804.39542550984], [156801.73788354773], [208754.9879433756], [180832.97689800555], [131168.41626812605], [199600.23022358213], [176713.3359240985], [127277.64423721384], [203719.87119748918], [84021.41401118974], [180832.97689800555], [210128.2016013446], [188843.38990282483], [182206.19055597455], [195022.8513636854], [146273.76650578526], [174653.51543714496], [174653.51543714496], [60676.78182571643], [152224.359023651], [123158.00326330677], [159777.03414248058], [170305.00552024308], [193649.6377057164], [156801.73788354773], [202575.526482515], [173509.1707221708], [195480.58924967507]], \"yaxis\": \"y2\"}],\n",
              "                        {\"height\": 600, \"template\": {\"data\": {\"bar\": [{\"error_x\": {\"color\": \"#2a3f5f\"}, \"error_y\": {\"color\": \"#2a3f5f\"}, \"marker\": {\"line\": {\"color\": \"#E5ECF6\", \"width\": 0.5}}, \"type\": \"bar\"}], \"barpolar\": [{\"marker\": {\"line\": {\"color\": \"#E5ECF6\", \"width\": 0.5}}, \"type\": \"barpolar\"}], \"carpet\": [{\"aaxis\": {\"endlinecolor\": \"#2a3f5f\", \"gridcolor\": \"white\", \"linecolor\": \"white\", \"minorgridcolor\": \"white\", \"startlinecolor\": \"#2a3f5f\"}, \"baxis\": {\"endlinecolor\": \"#2a3f5f\", \"gridcolor\": \"white\", \"linecolor\": \"white\", \"minorgridcolor\": \"white\", \"startlinecolor\": \"#2a3f5f\"}, \"type\": \"carpet\"}], \"choropleth\": [{\"colorbar\": {\"outlinewidth\": 0, \"ticks\": \"\"}, \"type\": \"choropleth\"}], \"contour\": [{\"colorbar\": {\"outlinewidth\": 0, \"ticks\": \"\"}, \"colorscale\": [[0.0, \"#0d0887\"], [0.1111111111111111, \"#46039f\"], [0.2222222222222222, \"#7201a8\"], [0.3333333333333333, \"#9c179e\"], [0.4444444444444444, \"#bd3786\"], [0.5555555555555556, \"#d8576b\"], [0.6666666666666666, \"#ed7953\"], [0.7777777777777778, \"#fb9f3a\"], [0.8888888888888888, \"#fdca26\"], [1.0, \"#f0f921\"]], \"type\": \"contour\"}], \"contourcarpet\": [{\"colorbar\": {\"outlinewidth\": 0, \"ticks\": \"\"}, \"type\": \"contourcarpet\"}], \"heatmap\": [{\"colorbar\": {\"outlinewidth\": 0, \"ticks\": \"\"}, \"colorscale\": [[0.0, \"#0d0887\"], [0.1111111111111111, \"#46039f\"], [0.2222222222222222, \"#7201a8\"], [0.3333333333333333, \"#9c179e\"], [0.4444444444444444, \"#bd3786\"], [0.5555555555555556, \"#d8576b\"], [0.6666666666666666, \"#ed7953\"], [0.7777777777777778, \"#fb9f3a\"], [0.8888888888888888, \"#fdca26\"], [1.0, \"#f0f921\"]], \"type\": \"heatmap\"}], \"heatmapgl\": [{\"colorbar\": {\"outlinewidth\": 0, \"ticks\": \"\"}, \"colorscale\": [[0.0, \"#0d0887\"], [0.1111111111111111, \"#46039f\"], [0.2222222222222222, \"#7201a8\"], [0.3333333333333333, \"#9c179e\"], [0.4444444444444444, \"#bd3786\"], [0.5555555555555556, \"#d8576b\"], [0.6666666666666666, \"#ed7953\"], [0.7777777777777778, \"#fb9f3a\"], [0.8888888888888888, \"#fdca26\"], [1.0, \"#f0f921\"]], \"type\": \"heatmapgl\"}], \"histogram\": [{\"marker\": {\"colorbar\": {\"outlinewidth\": 0, \"ticks\": \"\"}}, \"type\": \"histogram\"}], \"histogram2d\": [{\"colorbar\": {\"outlinewidth\": 0, \"ticks\": \"\"}, \"colorscale\": [[0.0, \"#0d0887\"], [0.1111111111111111, \"#46039f\"], [0.2222222222222222, \"#7201a8\"], [0.3333333333333333, \"#9c179e\"], [0.4444444444444444, \"#bd3786\"], [0.5555555555555556, \"#d8576b\"], [0.6666666666666666, \"#ed7953\"], [0.7777777777777778, \"#fb9f3a\"], [0.8888888888888888, \"#fdca26\"], [1.0, \"#f0f921\"]], \"type\": \"histogram2d\"}], \"histogram2dcontour\": [{\"colorbar\": {\"outlinewidth\": 0, \"ticks\": \"\"}, \"colorscale\": [[0.0, \"#0d0887\"], [0.1111111111111111, \"#46039f\"], [0.2222222222222222, \"#7201a8\"], [0.3333333333333333, \"#9c179e\"], [0.4444444444444444, \"#bd3786\"], [0.5555555555555556, \"#d8576b\"], [0.6666666666666666, \"#ed7953\"], [0.7777777777777778, \"#fb9f3a\"], [0.8888888888888888, \"#fdca26\"], [1.0, \"#f0f921\"]], \"type\": \"histogram2dcontour\"}], \"mesh3d\": [{\"colorbar\": {\"outlinewidth\": 0, \"ticks\": \"\"}, \"type\": \"mesh3d\"}], \"parcoords\": [{\"line\": {\"colorbar\": {\"outlinewidth\": 0, \"ticks\": \"\"}}, \"type\": \"parcoords\"}], \"pie\": [{\"automargin\": true, \"type\": \"pie\"}], \"scatter\": [{\"marker\": {\"colorbar\": {\"outlinewidth\": 0, \"ticks\": \"\"}}, \"type\": \"scatter\"}], \"scatter3d\": [{\"line\": {\"colorbar\": {\"outlinewidth\": 0, \"ticks\": \"\"}}, \"marker\": {\"colorbar\": {\"outlinewidth\": 0, \"ticks\": \"\"}}, \"type\": \"scatter3d\"}], \"scattercarpet\": [{\"marker\": {\"colorbar\": {\"outlinewidth\": 0, \"ticks\": \"\"}}, \"type\": \"scattercarpet\"}], \"scattergeo\": [{\"marker\": {\"colorbar\": {\"outlinewidth\": 0, \"ticks\": \"\"}}, \"type\": \"scattergeo\"}], \"scattergl\": [{\"marker\": {\"colorbar\": {\"outlinewidth\": 0, \"ticks\": \"\"}}, \"type\": \"scattergl\"}], \"scattermapbox\": [{\"marker\": {\"colorbar\": {\"outlinewidth\": 0, \"ticks\": \"\"}}, \"type\": \"scattermapbox\"}], \"scatterpolar\": [{\"marker\": {\"colorbar\": {\"outlinewidth\": 0, \"ticks\": \"\"}}, \"type\": \"scatterpolar\"}], \"scatterpolargl\": [{\"marker\": {\"colorbar\": {\"outlinewidth\": 0, \"ticks\": \"\"}}, \"type\": \"scatterpolargl\"}], \"scatterternary\": [{\"marker\": {\"colorbar\": {\"outlinewidth\": 0, \"ticks\": \"\"}}, \"type\": \"scatterternary\"}], \"surface\": [{\"colorbar\": {\"outlinewidth\": 0, \"ticks\": \"\"}, \"colorscale\": [[0.0, \"#0d0887\"], [0.1111111111111111, \"#46039f\"], [0.2222222222222222, \"#7201a8\"], [0.3333333333333333, \"#9c179e\"], [0.4444444444444444, \"#bd3786\"], [0.5555555555555556, \"#d8576b\"], [0.6666666666666666, \"#ed7953\"], [0.7777777777777778, \"#fb9f3a\"], [0.8888888888888888, \"#fdca26\"], [1.0, \"#f0f921\"]], \"type\": \"surface\"}], \"table\": [{\"cells\": {\"fill\": {\"color\": \"#EBF0F8\"}, \"line\": {\"color\": \"white\"}}, \"header\": {\"fill\": {\"color\": \"#C8D4E3\"}, \"line\": {\"color\": \"white\"}}, \"type\": \"table\"}]}, \"layout\": {\"annotationdefaults\": {\"arrowcolor\": \"#2a3f5f\", \"arrowhead\": 0, \"arrowwidth\": 1}, \"coloraxis\": {\"colorbar\": {\"outlinewidth\": 0, \"ticks\": \"\"}}, \"colorscale\": {\"diverging\": [[0, \"#8e0152\"], [0.1, \"#c51b7d\"], [0.2, \"#de77ae\"], [0.3, \"#f1b6da\"], [0.4, \"#fde0ef\"], [0.5, \"#f7f7f7\"], [0.6, \"#e6f5d0\"], [0.7, \"#b8e186\"], [0.8, \"#7fbc41\"], [0.9, \"#4d9221\"], [1, \"#276419\"]], \"sequential\": [[0.0, \"#0d0887\"], [0.1111111111111111, \"#46039f\"], [0.2222222222222222, \"#7201a8\"], [0.3333333333333333, \"#9c179e\"], [0.4444444444444444, \"#bd3786\"], [0.5555555555555556, \"#d8576b\"], [0.6666666666666666, \"#ed7953\"], [0.7777777777777778, \"#fb9f3a\"], [0.8888888888888888, \"#fdca26\"], [1.0, \"#f0f921\"]], \"sequentialminus\": [[0.0, \"#0d0887\"], [0.1111111111111111, \"#46039f\"], [0.2222222222222222, \"#7201a8\"], [0.3333333333333333, \"#9c179e\"], [0.4444444444444444, \"#bd3786\"], [0.5555555555555556, \"#d8576b\"], [0.6666666666666666, \"#ed7953\"], [0.7777777777777778, \"#fb9f3a\"], [0.8888888888888888, \"#fdca26\"], [1.0, \"#f0f921\"]]}, \"colorway\": [\"#636efa\", \"#EF553B\", \"#00cc96\", \"#ab63fa\", \"#FFA15A\", \"#19d3f3\", \"#FF6692\", \"#B6E880\", \"#FF97FF\", \"#FECB52\"], \"font\": {\"color\": \"#2a3f5f\"}, \"geo\": {\"bgcolor\": \"white\", \"lakecolor\": \"white\", \"landcolor\": \"#E5ECF6\", \"showlakes\": true, \"showland\": true, \"subunitcolor\": \"white\"}, \"hoverlabel\": {\"align\": \"left\"}, \"hovermode\": \"closest\", \"mapbox\": {\"style\": \"light\"}, \"paper_bgcolor\": \"white\", \"plot_bgcolor\": \"#E5ECF6\", \"polar\": {\"angularaxis\": {\"gridcolor\": \"white\", \"linecolor\": \"white\", \"ticks\": \"\"}, \"bgcolor\": \"#E5ECF6\", \"radialaxis\": {\"gridcolor\": \"white\", \"linecolor\": \"white\", \"ticks\": \"\"}}, \"scene\": {\"xaxis\": {\"backgroundcolor\": \"#E5ECF6\", \"gridcolor\": \"white\", \"gridwidth\": 2, \"linecolor\": \"white\", \"showbackground\": true, \"ticks\": \"\", \"zerolinecolor\": \"white\"}, \"yaxis\": {\"backgroundcolor\": \"#E5ECF6\", \"gridcolor\": \"white\", \"gridwidth\": 2, \"linecolor\": \"white\", \"showbackground\": true, \"ticks\": \"\", \"zerolinecolor\": \"white\"}, \"zaxis\": {\"backgroundcolor\": \"#E5ECF6\", \"gridcolor\": \"white\", \"gridwidth\": 2, \"linecolor\": \"white\", \"showbackground\": true, \"ticks\": \"\", \"zerolinecolor\": \"white\"}}, \"shapedefaults\": {\"line\": {\"color\": \"#2a3f5f\"}}, \"ternary\": {\"aaxis\": {\"gridcolor\": \"white\", \"linecolor\": \"white\", \"ticks\": \"\"}, \"baxis\": {\"gridcolor\": \"white\", \"linecolor\": \"white\", \"ticks\": \"\"}, \"bgcolor\": \"#E5ECF6\", \"caxis\": {\"gridcolor\": \"white\", \"linecolor\": \"white\", \"ticks\": \"\"}}, \"title\": {\"x\": 0.05}, \"xaxis\": {\"automargin\": true, \"gridcolor\": \"white\", \"linecolor\": \"white\", \"ticks\": \"\", \"title\": {\"standoff\": 15}, \"zerolinecolor\": \"white\", \"zerolinewidth\": 2}, \"yaxis\": {\"automargin\": true, \"gridcolor\": \"white\", \"linecolor\": \"white\", \"ticks\": \"\", \"title\": {\"standoff\": 15}, \"zerolinecolor\": \"white\", \"zerolinewidth\": 2}}}, \"title\": {\"text\": \"title\"}, \"width\": 800, \"xaxis\": {\"anchor\": \"y\", \"domain\": [0.0, 0.94], \"tickangle\": -90}, \"yaxis\": {\"anchor\": \"x\", \"domain\": [0.0, 1.0]}, \"yaxis2\": {\"anchor\": \"x\", \"overlaying\": \"y\", \"side\": \"right\"}},\n",
              "                        {\"responsive\": true}\n",
              "                    ).then(function(){\n",
              "                            \n",
              "var gd = document.getElementById('2b2c894b-5452-4a21-a56b-b461e8686a6b');\n",
              "var x = new MutationObserver(function (mutations, observer) {{\n",
              "        var display = window.getComputedStyle(gd).display;\n",
              "        if (!display || display === 'none') {{\n",
              "            console.log([gd, 'removed!']);\n",
              "            Plotly.purge(gd);\n",
              "            observer.disconnect();\n",
              "        }}\n",
              "}});\n",
              "\n",
              "// Listen for the removal of the full notebook cells\n",
              "var notebookContainer = gd.closest('#notebook-container');\n",
              "if (notebookContainer) {{\n",
              "    x.observe(notebookContainer, {childList: true});\n",
              "}}\n",
              "\n",
              "// Listen for the clearing of the current output cell\n",
              "var outputEl = gd.closest('.output');\n",
              "if (outputEl) {{\n",
              "    x.observe(outputEl, {childList: true});\n",
              "}}\n",
              "\n",
              "                        })\n",
              "                };\n",
              "                \n",
              "            </script>\n",
              "        </div>\n",
              "</body>\n",
              "</html>"
            ]
          },
          "metadata": {}
        }
      ]
    },
    {
      "cell_type": "code",
      "metadata": {
        "id": "qLDV7zsYWUZ3",
        "colab": {
          "base_uri": "https://localhost:8080/",
          "height": 328
        },
        "outputId": "309d65db-8ded-4641-ee3c-8ab779e32e1d"
      },
      "source": [
        "#plt.plot(sales_noCC['CrimeRate'], sales_noCC['HousePrice'], '.',\n",
        "#         sales_noCC['CrimeRate'], crime_model_noCC.predict(sales_noCC), '-')"
      ],
      "execution_count": null,
      "outputs": [
        {
          "output_type": "error",
          "ename": "ValueError",
          "evalue": "ignored",
          "traceback": [
            "\u001b[0;31m---------------------------------------------------------------------------\u001b[0m",
            "\u001b[0;31mValueError\u001b[0m                                Traceback (most recent call last)",
            "\u001b[0;32m<ipython-input-38-f09997b95f39>\u001b[0m in \u001b[0;36m<module>\u001b[0;34m()\u001b[0m\n\u001b[1;32m      1\u001b[0m plt.plot(sales_noCC['CrimeRate'], sales_noCC['HousePrice'], '.',\n\u001b[0;32m----> 2\u001b[0;31m          sales_noCC['CrimeRate'], crime_model_noCC.predict(sales_noCC), '-')\n\u001b[0m",
            "\u001b[0;32m/usr/local/lib/python3.7/dist-packages/sklearn/linear_model/_base.py\u001b[0m in \u001b[0;36mpredict\u001b[0;34m(self, X)\u001b[0m\n\u001b[1;32m    223\u001b[0m             \u001b[0mReturns\u001b[0m \u001b[0mpredicted\u001b[0m \u001b[0mvalues\u001b[0m\u001b[0;34m.\u001b[0m\u001b[0;34m\u001b[0m\u001b[0;34m\u001b[0m\u001b[0m\n\u001b[1;32m    224\u001b[0m         \"\"\"\n\u001b[0;32m--> 225\u001b[0;31m         \u001b[0;32mreturn\u001b[0m \u001b[0mself\u001b[0m\u001b[0;34m.\u001b[0m\u001b[0m_decision_function\u001b[0m\u001b[0;34m(\u001b[0m\u001b[0mX\u001b[0m\u001b[0;34m)\u001b[0m\u001b[0;34m\u001b[0m\u001b[0;34m\u001b[0m\u001b[0m\n\u001b[0m\u001b[1;32m    226\u001b[0m \u001b[0;34m\u001b[0m\u001b[0m\n\u001b[1;32m    227\u001b[0m     \u001b[0m_preprocess_data\u001b[0m \u001b[0;34m=\u001b[0m \u001b[0mstaticmethod\u001b[0m\u001b[0;34m(\u001b[0m\u001b[0m_preprocess_data\u001b[0m\u001b[0;34m)\u001b[0m\u001b[0;34m\u001b[0m\u001b[0;34m\u001b[0m\u001b[0m\n",
            "\u001b[0;32m/usr/local/lib/python3.7/dist-packages/sklearn/linear_model/_base.py\u001b[0m in \u001b[0;36m_decision_function\u001b[0;34m(self, X)\u001b[0m\n\u001b[1;32m    205\u001b[0m         \u001b[0mcheck_is_fitted\u001b[0m\u001b[0;34m(\u001b[0m\u001b[0mself\u001b[0m\u001b[0;34m)\u001b[0m\u001b[0;34m\u001b[0m\u001b[0;34m\u001b[0m\u001b[0m\n\u001b[1;32m    206\u001b[0m \u001b[0;34m\u001b[0m\u001b[0m\n\u001b[0;32m--> 207\u001b[0;31m         \u001b[0mX\u001b[0m \u001b[0;34m=\u001b[0m \u001b[0mcheck_array\u001b[0m\u001b[0;34m(\u001b[0m\u001b[0mX\u001b[0m\u001b[0;34m,\u001b[0m \u001b[0maccept_sparse\u001b[0m\u001b[0;34m=\u001b[0m\u001b[0;34m[\u001b[0m\u001b[0;34m'csr'\u001b[0m\u001b[0;34m,\u001b[0m \u001b[0;34m'csc'\u001b[0m\u001b[0;34m,\u001b[0m \u001b[0;34m'coo'\u001b[0m\u001b[0;34m]\u001b[0m\u001b[0;34m)\u001b[0m\u001b[0;34m\u001b[0m\u001b[0;34m\u001b[0m\u001b[0m\n\u001b[0m\u001b[1;32m    208\u001b[0m         return safe_sparse_dot(X, self.coef_.T,\n\u001b[1;32m    209\u001b[0m                                dense_output=True) + self.intercept_\n",
            "\u001b[0;32m/usr/local/lib/python3.7/dist-packages/sklearn/utils/validation.py\u001b[0m in \u001b[0;36mcheck_array\u001b[0;34m(array, accept_sparse, accept_large_sparse, dtype, order, copy, force_all_finite, ensure_2d, allow_nd, ensure_min_samples, ensure_min_features, warn_on_dtype, estimator)\u001b[0m\n\u001b[1;32m    529\u001b[0m                     \u001b[0marray\u001b[0m \u001b[0;34m=\u001b[0m \u001b[0marray\u001b[0m\u001b[0;34m.\u001b[0m\u001b[0mastype\u001b[0m\u001b[0;34m(\u001b[0m\u001b[0mdtype\u001b[0m\u001b[0;34m,\u001b[0m \u001b[0mcasting\u001b[0m\u001b[0;34m=\u001b[0m\u001b[0;34m\"unsafe\"\u001b[0m\u001b[0;34m,\u001b[0m \u001b[0mcopy\u001b[0m\u001b[0;34m=\u001b[0m\u001b[0;32mFalse\u001b[0m\u001b[0;34m)\u001b[0m\u001b[0;34m\u001b[0m\u001b[0;34m\u001b[0m\u001b[0m\n\u001b[1;32m    530\u001b[0m                 \u001b[0;32melse\u001b[0m\u001b[0;34m:\u001b[0m\u001b[0;34m\u001b[0m\u001b[0;34m\u001b[0m\u001b[0m\n\u001b[0;32m--> 531\u001b[0;31m                     \u001b[0marray\u001b[0m \u001b[0;34m=\u001b[0m \u001b[0mnp\u001b[0m\u001b[0;34m.\u001b[0m\u001b[0masarray\u001b[0m\u001b[0;34m(\u001b[0m\u001b[0marray\u001b[0m\u001b[0;34m,\u001b[0m \u001b[0morder\u001b[0m\u001b[0;34m=\u001b[0m\u001b[0morder\u001b[0m\u001b[0;34m,\u001b[0m \u001b[0mdtype\u001b[0m\u001b[0;34m=\u001b[0m\u001b[0mdtype\u001b[0m\u001b[0;34m)\u001b[0m\u001b[0;34m\u001b[0m\u001b[0;34m\u001b[0m\u001b[0m\n\u001b[0m\u001b[1;32m    532\u001b[0m             \u001b[0;32mexcept\u001b[0m \u001b[0mComplexWarning\u001b[0m\u001b[0;34m:\u001b[0m\u001b[0;34m\u001b[0m\u001b[0;34m\u001b[0m\u001b[0m\n\u001b[1;32m    533\u001b[0m                 raise ValueError(\"Complex data not supported\\n\"\n",
            "\u001b[0;32m/usr/local/lib/python3.7/dist-packages/numpy/core/_asarray.py\u001b[0m in \u001b[0;36masarray\u001b[0;34m(a, dtype, order)\u001b[0m\n\u001b[1;32m     81\u001b[0m \u001b[0;34m\u001b[0m\u001b[0m\n\u001b[1;32m     82\u001b[0m     \"\"\"\n\u001b[0;32m---> 83\u001b[0;31m     \u001b[0;32mreturn\u001b[0m \u001b[0marray\u001b[0m\u001b[0;34m(\u001b[0m\u001b[0ma\u001b[0m\u001b[0;34m,\u001b[0m \u001b[0mdtype\u001b[0m\u001b[0;34m,\u001b[0m \u001b[0mcopy\u001b[0m\u001b[0;34m=\u001b[0m\u001b[0;32mFalse\u001b[0m\u001b[0;34m,\u001b[0m \u001b[0morder\u001b[0m\u001b[0;34m=\u001b[0m\u001b[0morder\u001b[0m\u001b[0;34m)\u001b[0m\u001b[0;34m\u001b[0m\u001b[0;34m\u001b[0m\u001b[0m\n\u001b[0m\u001b[1;32m     84\u001b[0m \u001b[0;34m\u001b[0m\u001b[0m\n\u001b[1;32m     85\u001b[0m \u001b[0;34m\u001b[0m\u001b[0m\n",
            "\u001b[0;32m/usr/local/lib/python3.7/dist-packages/pandas/core/generic.py\u001b[0m in \u001b[0;36m__array__\u001b[0;34m(self, dtype)\u001b[0m\n\u001b[1;32m   1779\u001b[0m \u001b[0;34m\u001b[0m\u001b[0m\n\u001b[1;32m   1780\u001b[0m     \u001b[0;32mdef\u001b[0m \u001b[0m__array__\u001b[0m\u001b[0;34m(\u001b[0m\u001b[0mself\u001b[0m\u001b[0;34m,\u001b[0m \u001b[0mdtype\u001b[0m\u001b[0;34m=\u001b[0m\u001b[0;32mNone\u001b[0m\u001b[0;34m)\u001b[0m \u001b[0;34m->\u001b[0m \u001b[0mnp\u001b[0m\u001b[0;34m.\u001b[0m\u001b[0mndarray\u001b[0m\u001b[0;34m:\u001b[0m\u001b[0;34m\u001b[0m\u001b[0;34m\u001b[0m\u001b[0m\n\u001b[0;32m-> 1781\u001b[0;31m         \u001b[0;32mreturn\u001b[0m \u001b[0mnp\u001b[0m\u001b[0;34m.\u001b[0m\u001b[0masarray\u001b[0m\u001b[0;34m(\u001b[0m\u001b[0mself\u001b[0m\u001b[0;34m.\u001b[0m\u001b[0m_values\u001b[0m\u001b[0;34m,\u001b[0m \u001b[0mdtype\u001b[0m\u001b[0;34m=\u001b[0m\u001b[0mdtype\u001b[0m\u001b[0;34m)\u001b[0m\u001b[0;34m\u001b[0m\u001b[0;34m\u001b[0m\u001b[0m\n\u001b[0m\u001b[1;32m   1782\u001b[0m \u001b[0;34m\u001b[0m\u001b[0m\n\u001b[1;32m   1783\u001b[0m     \u001b[0;32mdef\u001b[0m \u001b[0m__array_wrap__\u001b[0m\u001b[0;34m(\u001b[0m\u001b[0mself\u001b[0m\u001b[0;34m,\u001b[0m \u001b[0mresult\u001b[0m\u001b[0;34m,\u001b[0m \u001b[0mcontext\u001b[0m\u001b[0;34m=\u001b[0m\u001b[0;32mNone\u001b[0m\u001b[0;34m)\u001b[0m\u001b[0;34m:\u001b[0m\u001b[0;34m\u001b[0m\u001b[0;34m\u001b[0m\u001b[0m\n",
            "\u001b[0;32m/usr/local/lib/python3.7/dist-packages/numpy/core/_asarray.py\u001b[0m in \u001b[0;36masarray\u001b[0;34m(a, dtype, order)\u001b[0m\n\u001b[1;32m     81\u001b[0m \u001b[0;34m\u001b[0m\u001b[0m\n\u001b[1;32m     82\u001b[0m     \"\"\"\n\u001b[0;32m---> 83\u001b[0;31m     \u001b[0;32mreturn\u001b[0m \u001b[0marray\u001b[0m\u001b[0;34m(\u001b[0m\u001b[0ma\u001b[0m\u001b[0;34m,\u001b[0m \u001b[0mdtype\u001b[0m\u001b[0;34m,\u001b[0m \u001b[0mcopy\u001b[0m\u001b[0;34m=\u001b[0m\u001b[0;32mFalse\u001b[0m\u001b[0;34m,\u001b[0m \u001b[0morder\u001b[0m\u001b[0;34m=\u001b[0m\u001b[0morder\u001b[0m\u001b[0;34m)\u001b[0m\u001b[0;34m\u001b[0m\u001b[0;34m\u001b[0m\u001b[0m\n\u001b[0m\u001b[1;32m     84\u001b[0m \u001b[0;34m\u001b[0m\u001b[0m\n\u001b[1;32m     85\u001b[0m \u001b[0;34m\u001b[0m\u001b[0m\n",
            "\u001b[0;31mValueError\u001b[0m: could not convert string to float: 'Abington'"
          ]
        }
      ]
    },
    {
      "cell_type": "markdown",
      "metadata": {
        "id": "ff1_PGoWWUZ4"
      },
      "source": [
        "# Compare coefficients for full-data fit versus no-Center-City fit"
      ]
    },
    {
      "cell_type": "markdown",
      "metadata": {
        "id": "kCQC6TdQWUZ4"
      },
      "source": [
        "Visually, the fit seems different, but let's quantify this by examining the estimated coefficients of our original fit and that of the modified dataset with Center City removed."
      ]
    },
    {
      "cell_type": "code",
      "metadata": {
        "id": "svMIpJrxWUZ5",
        "colab": {
          "base_uri": "https://localhost:8080/"
        },
        "outputId": "32c9b8aa-dfb8-4bca-9d97-4b5de3d00b9a"
      },
      "source": [
        "#crime_model.coefficients\n",
        "crime_model.coef_"
      ],
      "execution_count": 51,
      "outputs": [
        {
          "output_type": "execute_result",
          "data": {
            "text/plain": [
              "array([[-576.90812768]])"
            ]
          },
          "metadata": {},
          "execution_count": 51
        }
      ]
    },
    {
      "cell_type": "code",
      "metadata": {
        "id": "vIwCxRMhi1QS",
        "outputId": "7afd51a9-3c22-4c55-c75b-0418b8532c37"
      },
      "source": [
        "crime_model.coefficients"
      ],
      "execution_count": null,
      "outputs": [
        {
          "data": {
            "text/html": [
              "<div style=\"max-height:1000px;max-width:1500px;overflow:auto;\"><table frame=\"box\" rules=\"cols\">\n",
              "    <tr>\n",
              "        <th style=\"padding-left: 1em; padding-right: 1em; text-align: center\">name</th>\n",
              "        <th style=\"padding-left: 1em; padding-right: 1em; text-align: center\">index</th>\n",
              "        <th style=\"padding-left: 1em; padding-right: 1em; text-align: center\">value</th>\n",
              "        <th style=\"padding-left: 1em; padding-right: 1em; text-align: center\">stderr</th>\n",
              "    </tr>\n",
              "    <tr>\n",
              "        <td style=\"padding-left: 1em; padding-right: 1em; text-align: center; vertical-align: top\">(intercept)</td>\n",
              "        <td style=\"padding-left: 1em; padding-right: 1em; text-align: center; vertical-align: top\">None</td>\n",
              "        <td style=\"padding-left: 1em; padding-right: 1em; text-align: center; vertical-align: top\">176626.046881</td>\n",
              "        <td style=\"padding-left: 1em; padding-right: 1em; text-align: center; vertical-align: top\">11245.5882187</td>\n",
              "    </tr>\n",
              "    <tr>\n",
              "        <td style=\"padding-left: 1em; padding-right: 1em; text-align: center; vertical-align: top\">CrimeRate</td>\n",
              "        <td style=\"padding-left: 1em; padding-right: 1em; text-align: center; vertical-align: top\">None</td>\n",
              "        <td style=\"padding-left: 1em; padding-right: 1em; text-align: center; vertical-align: top\">-576.804949058</td>\n",
              "        <td style=\"padding-left: 1em; padding-right: 1em; text-align: center; vertical-align: top\">226.902259495</td>\n",
              "    </tr>\n",
              "</table>\n",
              "[2 rows x 4 columns]<br/>\n",
              "</div>"
            ],
            "text/plain": [
              "Columns:\n",
              "\tname\tstr\n",
              "\tindex\tstr\n",
              "\tvalue\tfloat\n",
              "\tstderr\tfloat\n",
              "\n",
              "Rows: 2\n",
              "\n",
              "Data:\n",
              "+-------------+-------+----------------+---------------+\n",
              "|     name    | index |     value      |     stderr    |\n",
              "+-------------+-------+----------------+---------------+\n",
              "| (intercept) |  None | 176626.046881  | 11245.5882187 |\n",
              "|  CrimeRate  |  None | -576.804949058 | 226.902259495 |\n",
              "+-------------+-------+----------------+---------------+\n",
              "[2 rows x 4 columns]"
            ]
          },
          "execution_count": 12,
          "metadata": {},
          "output_type": "execute_result"
        }
      ]
    },
    {
      "cell_type": "code",
      "metadata": {
        "id": "F0a_Wk-FWUZ5",
        "colab": {
          "base_uri": "https://localhost:8080/"
        },
        "outputId": "38fc6342-3f53-4a69-aa49-15bf784b0298"
      },
      "source": [
        "#crime_model_noCC.coefficients\n",
        "crime_model_noCC.coef_"
      ],
      "execution_count": 52,
      "outputs": [
        {
          "output_type": "execute_result",
          "data": {
            "text/plain": [
              "array([[-2288.68942995]])"
            ]
          },
          "metadata": {},
          "execution_count": 52
        }
      ]
    },
    {
      "cell_type": "code",
      "metadata": {
        "id": "LM6x-X2Ki1QS",
        "outputId": "cd896a3a-617f-44f9-9b93-7174aff40868"
      },
      "source": [
        "crime_model_noCC.coefficients"
      ],
      "execution_count": null,
      "outputs": [
        {
          "data": {
            "text/html": [
              "<div style=\"max-height:1000px;max-width:1500px;overflow:auto;\"><table frame=\"box\" rules=\"cols\">\n",
              "    <tr>\n",
              "        <th style=\"padding-left: 1em; padding-right: 1em; text-align: center\">name</th>\n",
              "        <th style=\"padding-left: 1em; padding-right: 1em; text-align: center\">index</th>\n",
              "        <th style=\"padding-left: 1em; padding-right: 1em; text-align: center\">value</th>\n",
              "        <th style=\"padding-left: 1em; padding-right: 1em; text-align: center\">stderr</th>\n",
              "    </tr>\n",
              "    <tr>\n",
              "        <td style=\"padding-left: 1em; padding-right: 1em; text-align: center; vertical-align: top\">(intercept)</td>\n",
              "        <td style=\"padding-left: 1em; padding-right: 1em; text-align: center; vertical-align: top\">None</td>\n",
              "        <td style=\"padding-left: 1em; padding-right: 1em; text-align: center; vertical-align: top\">225204.604303</td>\n",
              "        <td style=\"padding-left: 1em; padding-right: 1em; text-align: center; vertical-align: top\">16404.0247483</td>\n",
              "    </tr>\n",
              "    <tr>\n",
              "        <td style=\"padding-left: 1em; padding-right: 1em; text-align: center; vertical-align: top\">CrimeRate</td>\n",
              "        <td style=\"padding-left: 1em; padding-right: 1em; text-align: center; vertical-align: top\">None</td>\n",
              "        <td style=\"padding-left: 1em; padding-right: 1em; text-align: center; vertical-align: top\">-2287.69717443</td>\n",
              "        <td style=\"padding-left: 1em; padding-right: 1em; text-align: center; vertical-align: top\">491.537478029</td>\n",
              "    </tr>\n",
              "</table>\n",
              "[2 rows x 4 columns]<br/>\n",
              "</div>"
            ],
            "text/plain": [
              "Columns:\n",
              "\tname\tstr\n",
              "\tindex\tstr\n",
              "\tvalue\tfloat\n",
              "\tstderr\tfloat\n",
              "\n",
              "Rows: 2\n",
              "\n",
              "Data:\n",
              "+-------------+-------+----------------+---------------+\n",
              "|     name    | index |     value      |     stderr    |\n",
              "+-------------+-------+----------------+---------------+\n",
              "| (intercept) |  None | 225204.604303  | 16404.0247483 |\n",
              "|  CrimeRate  |  None | -2287.69717443 | 491.537478029 |\n",
              "+-------------+-------+----------------+---------------+\n",
              "[2 rows x 4 columns]"
            ]
          },
          "execution_count": 13,
          "metadata": {},
          "output_type": "execute_result"
        }
      ]
    },
    {
      "cell_type": "markdown",
      "metadata": {
        "id": "P6t0T7VPWUZ5"
      },
      "source": [
        "Above: We see that for the \"no Center City\" version, per unit increase in crime, the predicted decrease in house prices is 2,287.  In contrast, for the original dataset, the drop is only 576 per unit increase in crime.  This is significantly different!"
      ]
    },
    {
      "cell_type": "markdown",
      "metadata": {
        "id": "Tz5TZs-vWUZ5"
      },
      "source": [
        "### High leverage points: \n",
        "Center City is said to be a \"high leverage\" point because it is at an extreme x value where there are not other observations.  As a result, recalling the closed-form solution for simple regression, this point has the *potential* to dramatically change the least squares line since the center of x mass is heavily influenced by this one point and the least squares line will try to fit close to that outlying (in x) point.  If a high leverage point follows the trend of the other data, this might not have much effect.  On the other hand, if this point somehow differs, it can be strongly influential in the resulting fit.\n",
        "\n",
        "### Influential observations:  \n",
        "An influential observation is one where the removal of the point significantly changes the fit.  As discussed above, high leverage points are good candidates for being influential observations, but need not be.  Other observations that are *not* leverage points can also be influential observations (e.g., strongly outlying in y even if x is a typical value)."
      ]
    },
    {
      "cell_type": "markdown",
      "metadata": {
        "id": "UKzsgXNyWUZ6"
      },
      "source": [
        "### Plotting the two models\n",
        "Confirm the above calculations by looking at the plots. The orange line is the model trained removing Center City, and the green line is the model trained on all the data. Notice how much steeper the green line is, since the drop in value is much higher according to this model."
      ]
    },
    {
      "cell_type": "code",
      "metadata": {
        "id": "53m88FJJWUZ6",
        "colab": {
          "base_uri": "https://localhost:8080/",
          "height": 317
        },
        "outputId": "f9529f05-61dc-464d-9190-7d24ce51d96e"
      },
      "source": [
        "plt.plot(sales_noCC['CrimeRate'], sales_noCC['HousePrice'], '.',\n",
        "         dfx, crime_model.predict(dfx), '-',\n",
        "         dfx, crime_model_noCC.predict(dfx), '-')"
      ],
      "execution_count": 55,
      "outputs": [
        {
          "output_type": "execute_result",
          "data": {
            "text/plain": [
              "[<matplotlib.lines.Line2D at 0x7ff58e985310>,\n",
              " <matplotlib.lines.Line2D at 0x7ff58e985490>,\n",
              " <matplotlib.lines.Line2D at 0x7ff58e985690>]"
            ]
          },
          "metadata": {},
          "execution_count": 55
        },
        {
          "output_type": "display_data",
          "data": {
            "image/png": "[encoded data removed]",
            "text/plain": [
              "<Figure size 432x288 with 1 Axes>"
            ]
          },
          "metadata": {
            "needs_background": "light"
          }
        }
      ]
    },
    {
      "cell_type": "code",
      "metadata": {
        "id": "khzsBF29i1QU",
        "outputId": "274fb691-9014-4e8b-d6d7-43978fb0ed3d"
      },
      "source": [
        "plt.plot(sales_noCC['CrimeRate'], sales_noCC['HousePrice'], '.',\n",
        "         sales_noCC['CrimeRate'], crime_model.predict(sales_noCC), '-',\n",
        "         sales_noCC['CrimeRate'], crime_model_noCC.predict(sales_noCC), '-')"
      ],
      "execution_count": null,
      "outputs": [
        {
          "data": {
            "text/plain": [
              "[<matplotlib.lines.Line2D at 0x12437ec50>,\n",
              " <matplotlib.lines.Line2D at 0x10cb8dc10>,\n",
              " <matplotlib.lines.Line2D at 0x10cb9a490>]"
            ]
          },
          "execution_count": 14,
          "metadata": {},
          "output_type": "execute_result"
        },
        {
          "data": {
            "image/png": "[encoded data removed]",
            "text/plain": [
              "<Figure size 432x288 with 1 Axes>"
            ]
          },
          "metadata": {
            "needs_background": "light"
          },
          "output_type": "display_data"
        }
      ]
    },
    {
      "cell_type": "markdown",
      "metadata": {
        "id": "xhDXbpmiWUZ6"
      },
      "source": [
        "# Remove high-value outlier neighborhoods and redo analysis"
      ]
    },
    {
      "cell_type": "markdown",
      "metadata": {
        "id": "WVyL_cGNWUZ7"
      },
      "source": [
        "Based on the discussion above, a question is whether the outlying high-value towns are strongly influencing the fit.  Let's remove them and see what happens."
      ]
    },
    {
      "cell_type": "code",
      "metadata": {
        "id": "mtYb1Qh0WUZ7",
        "colab": {
          "base_uri": "https://localhost:8080/",
          "height": 53
        },
        "outputId": "87aa8222-978f-441a-8bb7-dd78b790cad3"
      },
      "source": [
        "sales_nohighend = sales_noCC[sales_noCC['HousePrice'] < 350000]\n",
        "\"\"\"crime_model_nohighend = turicreate.linear_regression.create(\n",
        "    sales_nohighend,\n",
        "    target='HousePrice',\n",
        "    features=['CrimeRate'],\n",
        "    validation_set=None,\n",
        "    verbose=False\n",
        ")\"\"\"\n"
      ],
      "execution_count": 56,
      "outputs": [
        {
          "output_type": "execute_result",
          "data": {
            "application/vnd.google.colaboratory.intrinsic+json": {
              "type": "string"
            },
            "text/plain": [
              "\"crime_model_nohighend = turicreate.linear_regression.create(\\n    sales_nohighend,\\n    target='HousePrice',\\n    features=['CrimeRate'],\\n    validation_set=None,\\n    verbose=False\\n)\""
            ]
          },
          "metadata": {},
          "execution_count": 56
        }
      ]
    },
    {
      "cell_type": "code",
      "metadata": {
        "id": "T2Mm_Gadl93G"
      },
      "source": [
        "\n",
        "dfx_nh=sales_nohighend['CrimeRate'].values.reshape(-1, 1)\n",
        "dfy_nh=sales_nohighend['HousePrice'].values.reshape(-1, 1)\n",
        "crime_model_nohighend = LinearRegression().fit(dfx_nh,dfy_nh)"
      ],
      "execution_count": 58,
      "outputs": []
    },
    {
      "cell_type": "code",
      "metadata": {
        "colab": {
          "base_uri": "https://localhost:8080/"
        },
        "id": "BNqIuAWymciZ",
        "outputId": "817b8476-94a3-4424-c388-391188d1bc8c"
      },
      "source": [
        "crime_model_nohighend.coef_\n"
      ],
      "execution_count": 60,
      "outputs": [
        {
          "output_type": "execute_result",
          "data": {
            "text/plain": [
              "array([[-1838.56264859]])"
            ]
          },
          "metadata": {},
          "execution_count": 60
        }
      ]
    },
    {
      "cell_type": "code",
      "metadata": {
        "colab": {
          "base_uri": "https://localhost:8080/"
        },
        "id": "GDTur8vhmnxg",
        "outputId": "2bb790fe-bbc0-44eb-dbea-e05d8e2fc617"
      },
      "source": [
        "crime_model_nohighend.intercept_"
      ],
      "execution_count": 61,
      "outputs": [
        {
          "output_type": "execute_result",
          "data": {
            "text/plain": [
              "array([199098.8526698])"
            ]
          },
          "metadata": {},
          "execution_count": 61
        }
      ]
    },
    {
      "cell_type": "code",
      "metadata": {
        "colab": {
          "base_uri": "https://localhost:8080/"
        },
        "id": "kyZhXHbEmvBx",
        "outputId": "727a8cfd-1863-41fc-dbb2-062335430060"
      },
      "source": [
        "crime_model_noCC.coef_"
      ],
      "execution_count": 62,
      "outputs": [
        {
          "output_type": "execute_result",
          "data": {
            "text/plain": [
              "array([[-2288.68942995]])"
            ]
          },
          "metadata": {},
          "execution_count": 62
        }
      ]
    },
    {
      "cell_type": "code",
      "metadata": {
        "colab": {
          "base_uri": "https://localhost:8080/"
        },
        "id": "VkX4K1I6mwFT",
        "outputId": "14ac2661-905c-43c5-f8e7-507326a93ac4"
      },
      "source": [
        "crime_model_noCC.intercept_"
      ],
      "execution_count": 64,
      "outputs": [
        {
          "output_type": "execute_result",
          "data": {
            "text/plain": [
              "array([225233.551839])"
            ]
          },
          "metadata": {},
          "execution_count": 64
        }
      ]
    },
    {
      "cell_type": "markdown",
      "metadata": {
        "id": "N4Qxwrs1WUZ8"
      },
      "source": [
        "### Do the coefficients change much?"
      ]
    },
    {
      "cell_type": "code",
      "metadata": {
        "id": "ErlSN800WUZ8",
        "outputId": "b478461d-ee78-4a7f-fe5a-823c43b591b3"
      },
      "source": [
        "crime_model_noCC.coefficients"
      ],
      "execution_count": null,
      "outputs": [
        {
          "output_type": "execute_result",
          "data": {
            "text/html": [
              "<div style=\"max-height:1000px;max-width:1500px;overflow:auto;\"><table frame=\"box\" rules=\"cols\">\n",
              "    <tr>\n",
              "        <th style=\"padding-left: 1em; padding-right: 1em; text-align: center\">name</th>\n",
              "        <th style=\"padding-left: 1em; padding-right: 1em; text-align: center\">index</th>\n",
              "        <th style=\"padding-left: 1em; padding-right: 1em; text-align: center\">value</th>\n",
              "        <th style=\"padding-left: 1em; padding-right: 1em; text-align: center\">stderr</th>\n",
              "    </tr>\n",
              "    <tr>\n",
              "        <td style=\"padding-left: 1em; padding-right: 1em; text-align: center; vertical-align: top\">(intercept)</td>\n",
              "        <td style=\"padding-left: 1em; padding-right: 1em; text-align: center; vertical-align: top\">None</td>\n",
              "        <td style=\"padding-left: 1em; padding-right: 1em; text-align: center; vertical-align: top\">225204.604303</td>\n",
              "        <td style=\"padding-left: 1em; padding-right: 1em; text-align: center; vertical-align: top\">16404.0247483</td>\n",
              "    </tr>\n",
              "    <tr>\n",
              "        <td style=\"padding-left: 1em; padding-right: 1em; text-align: center; vertical-align: top\">CrimeRate</td>\n",
              "        <td style=\"padding-left: 1em; padding-right: 1em; text-align: center; vertical-align: top\">None</td>\n",
              "        <td style=\"padding-left: 1em; padding-right: 1em; text-align: center; vertical-align: top\">-2287.69717443</td>\n",
              "        <td style=\"padding-left: 1em; padding-right: 1em; text-align: center; vertical-align: top\">491.537478029</td>\n",
              "    </tr>\n",
              "</table>\n",
              "[2 rows x 4 columns]<br/>\n",
              "</div>"
            ],
            "text/plain": [
              "Columns:\n",
              "\tname\tstr\n",
              "\tindex\tstr\n",
              "\tvalue\tfloat\n",
              "\tstderr\tfloat\n",
              "\n",
              "Rows: 2\n",
              "\n",
              "Data:\n",
              "+-------------+-------+----------------+---------------+\n",
              "|     name    | index |     value      |     stderr    |\n",
              "+-------------+-------+----------------+---------------+\n",
              "| (intercept) |  None | 225204.604303  | 16404.0247483 |\n",
              "|  CrimeRate  |  None | -2287.69717443 | 491.537478029 |\n",
              "+-------------+-------+----------------+---------------+\n",
              "[2 rows x 4 columns]"
            ]
          },
          "metadata": {
            "tags": []
          },
          "execution_count": 16
        }
      ]
    },
    {
      "cell_type": "code",
      "metadata": {
        "id": "gozQhYtpWUZ8",
        "outputId": "e0e10de5-789e-4cfb-feb8-0747c44cdae0"
      },
      "source": [
        "crime_model_nohighend.coefficients"
      ],
      "execution_count": null,
      "outputs": [
        {
          "output_type": "execute_result",
          "data": {
            "text/html": [
              "<div style=\"max-height:1000px;max-width:1500px;overflow:auto;\"><table frame=\"box\" rules=\"cols\">\n",
              "    <tr>\n",
              "        <th style=\"padding-left: 1em; padding-right: 1em; text-align: center\">name</th>\n",
              "        <th style=\"padding-left: 1em; padding-right: 1em; text-align: center\">index</th>\n",
              "        <th style=\"padding-left: 1em; padding-right: 1em; text-align: center\">value</th>\n",
              "        <th style=\"padding-left: 1em; padding-right: 1em; text-align: center\">stderr</th>\n",
              "    </tr>\n",
              "    <tr>\n",
              "        <td style=\"padding-left: 1em; padding-right: 1em; text-align: center; vertical-align: top\">(intercept)</td>\n",
              "        <td style=\"padding-left: 1em; padding-right: 1em; text-align: center; vertical-align: top\">None</td>\n",
              "        <td style=\"padding-left: 1em; padding-right: 1em; text-align: center; vertical-align: top\">199073.589615</td>\n",
              "        <td style=\"padding-left: 1em; padding-right: 1em; text-align: center; vertical-align: top\">11932.510108</td>\n",
              "    </tr>\n",
              "    <tr>\n",
              "        <td style=\"padding-left: 1em; padding-right: 1em; text-align: center; vertical-align: top\">CrimeRate</td>\n",
              "        <td style=\"padding-left: 1em; padding-right: 1em; text-align: center; vertical-align: top\">None</td>\n",
              "        <td style=\"padding-left: 1em; padding-right: 1em; text-align: center; vertical-align: top\">-1837.71280989</td>\n",
              "        <td style=\"padding-left: 1em; padding-right: 1em; text-align: center; vertical-align: top\">351.519609261</td>\n",
              "    </tr>\n",
              "</table>\n",
              "[2 rows x 4 columns]<br/>\n",
              "</div>"
            ],
            "text/plain": [
              "Columns:\n",
              "\tname\tstr\n",
              "\tindex\tstr\n",
              "\tvalue\tfloat\n",
              "\tstderr\tfloat\n",
              "\n",
              "Rows: 2\n",
              "\n",
              "Data:\n",
              "+-------------+-------+----------------+---------------+\n",
              "|     name    | index |     value      |     stderr    |\n",
              "+-------------+-------+----------------+---------------+\n",
              "| (intercept) |  None | 199073.589615  |  11932.510108 |\n",
              "|  CrimeRate  |  None | -1837.71280989 | 351.519609261 |\n",
              "+-------------+-------+----------------+---------------+\n",
              "[2 rows x 4 columns]"
            ]
          },
          "metadata": {
            "tags": []
          },
          "execution_count": 17
        }
      ]
    },
    {
      "cell_type": "markdown",
      "metadata": {
        "id": "Zj-bFi61WUZ8"
      },
      "source": [
        "Above: We see that removing the outlying high-value neighborhoods has *some* effect on the fit, but not nearly as much as our high-leverage Center City datapoint."
      ]
    },
    {
      "cell_type": "markdown",
      "metadata": {
        "collapsed": true,
        "id": "4d7O1OOoWUZ8"
      },
      "source": [
        "### Compare the two models\n",
        "Confirm the above calculations by looking at the plots. The orange line is the no high-end model, and the green line is the no-city-center model."
      ]
    },
    {
      "cell_type": "code",
      "metadata": {
        "colab": {
          "base_uri": "https://localhost:8080/",
          "height": 317
        },
        "id": "7q-YJhxGn97s",
        "outputId": "12880832-1054-4d00-81db-087e201df459"
      },
      "source": [
        "plt.plot(sales_nohighend['CrimeRate'], sales_nohighend['HousePrice'], '.',\n",
        "         sales_nohighend['CrimeRate'], crime_model_nohighend.predict(dfx_nh), '-',\n",
        "         sales_nohighend['CrimeRate'], crime_model_noCC.predict(dfx_nh), '-')    "
      ],
      "execution_count": 65,
      "outputs": [
        {
          "output_type": "execute_result",
          "data": {
            "text/plain": [
              "[<matplotlib.lines.Line2D at 0x7ff58e9ce590>,\n",
              " <matplotlib.lines.Line2D at 0x7ff58e9ce690>,\n",
              " <matplotlib.lines.Line2D at 0x7ff58e9ce8d0>]"
            ]
          },
          "metadata": {},
          "execution_count": 65
        },
        {
          "output_type": "display_data",
          "data": {
            "image/png": "[encoded data removed]",
            "text/plain": [
              "<Figure size 432x288 with 1 Axes>"
            ]
          },
          "metadata": {
            "needs_background": "light"
          }
        }
      ]
    },
    {
      "cell_type": "code",
      "metadata": {
        "id": "9Xt-5kDAWUZ9",
        "outputId": "4b393ebf-3efd-4cd3-f796-33df8b4ace34"
      },
      "source": [
        "plt.plot(sales_nohighend['CrimeRate'], sales_nohighend['HousePrice'], '.',\n",
        "         sales_nohighend['CrimeRate'], crime_model_nohighend.predict(sales_nohighend), '-',\n",
        "         sales_nohighend['CrimeRate'], crime_model_noCC.predict(sales_nohighend), '-')         "
      ],
      "execution_count": null,
      "outputs": [
        {
          "output_type": "execute_result",
          "data": {
            "text/plain": [
              "[<matplotlib.lines.Line2D at 0x10cbb0a10>,\n",
              " <matplotlib.lines.Line2D at 0x124533310>,\n",
              " <matplotlib.lines.Line2D at 0x124533b50>]"
            ]
          },
          "metadata": {
            "tags": []
          },
          "execution_count": 18
        },
        {
          "output_type": "display_data",
          "data": {
            "image/png": "[encoded data removed]",
            "text/plain": [
              "<Figure size 432x288 with 1 Axes>"
            ]
          },
          "metadata": {
            "tags": [],
            "needs_background": "light"
          }
        }
      ]
    },
    {
      "cell_type": "code",
      "metadata": {
        "id": "SBtsLoZaWUZ9"
      },
      "source": [
        ""
      ],
      "execution_count": null,
      "outputs": []
    },
    {
      "cell_type": "code",
      "metadata": {
        "id": "JxiONI0hWUZ9"
      },
      "source": [
        ""
      ],
      "execution_count": null,
      "outputs": []
    },
    {
      "cell_type": "code",
      "metadata": {
        "id": "f3f-pRNcWUZ9"
      },
      "source": [
        ""
      ],
      "execution_count": null,
      "outputs": []
    }
  ]
}